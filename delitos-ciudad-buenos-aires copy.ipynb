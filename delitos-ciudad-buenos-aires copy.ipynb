{
 "cells": [
  {
   "cell_type": "markdown",
   "id": "9acda74e-e312-4740-b8d1-e0005bf1e2d1",
   "metadata": {},
   "source": [
    "## Preparación del entorno"
   ]
  },
  {
   "cell_type": "code",
   "execution_count": null,
   "id": "0ef49cee-50cc-4783-bd10-06ec5ca5688a",
   "metadata": {},
   "outputs": [],
   "source": [
    "# Importar bibliotecas necesarias para el análisis\n",
    "import pandas as pd"
   ]
  },
  {
   "cell_type": "markdown",
   "id": "63979ef2-1df4-426f-bbc3-1a67cd8e1cdf",
   "metadata": {},
   "source": [
    "## Carga de datos"
   ]
  },
  {
   "cell_type": "markdown",
   "id": "9099764c-2480-491b-aaf6-41e74f536f93",
   "metadata": {},
   "source": [
    "### Delitos en la Ciudad\n",
    "El dataset utilizado en este análisis proviene del [Portal de Datos Abiertos del Gobierno de la Ciudad de Buenos Aires](https://data.buenosaires.gob.ar/dataset/delitos). Los datos están organizados en archivos separados por año, donde cada archivo contiene la información de los delitos reportados en ese período específico. El dataset abarca el período 2016-2023, con excepción del año 2020 debido a la pandemia del COVID-19. Los datos están disponibles bajo la licencia Creative Commons Attribution."
   ]
  },
  {
   "cell_type": "markdown",
   "id": "b239a127-e3c7-43c6-a7d1-731908d601d4",
   "metadata": {},
   "source": [
    "El dataset incluye las siguientes variables:\n",
    "\n",
    "|Nombre|Tipo|Descripción|\n",
    "|------|----|-----------|\n",
    "|id_mapa|integer|Identificador único.|\n",
    "|anio|date|Año en el que se registró el evento.|\n",
    "|mes|string|Mes en que ocurrió el evento.|\n",
    "|dia|string|Día de la semana en que ocurrió el evento.|\n",
    "|fecha|date|Fecha exacta del evento.|\n",
    "|franja|integer|Franja horaria en la que ocurrió el evento.|\n",
    "|tipo|string|Clasificación del tipo de delito.|\n",
    "|subtipo|string|Subtipo del delito, más específico.|\n",
    "|uso_arma|boolean|Indicador de uso de arma.|\n",
    "|uso_moto|boolean|Indicador de uso de moto en el evento.|\n",
    "|barrio|string|Barrio donde ocurrió el evento.|\n",
    "|comuna|integer|Comuna donde ocurrió el evento.|\n",
    "|latitud|float|Latitud geográfica donde ocurrió el evento.|\n",
    "|longitud|float|Longitud geográfica donde ocurrió el evento.|\n",
    "|cantidad|integer|Número de eventos registrados en esa ubicación y fecha.|"
   ]
  },
  {
   "cell_type": "code",
   "execution_count": null,
   "id": "a7aefb16-e942-4bec-b9b6-826f7512cd58",
   "metadata": {},
   "outputs": [],
   "source": [
    "# Lista de archivos que hay que importar (delitos desde 2016 hasta 2023, excluyendo 2020)\n",
    "# Los archivos están almacenados en la misma carpeta que el notebook Jupyter\n",
    "archivos_xlsx = [\n",
    "    \"delitos_2016.xlsx\",\n",
    "    \"delitos_2017.xlsx\",\n",
    "    \"delitos_2018.xlsx\",\n",
    "    \"delitos_2019.xlsx\",\n",
    "    \"delitos_2021.xlsx\",\n",
    "    \"delitos_2022.xlsx\",\n",
    "    \"delitos_2023.xlsx\"\n",
    "]\n",
    "\n",
    "# Crear lista para almacenar todos los data frames\n",
    "dfs = []\n",
    "\n",
    "# Importar los archivos de delitos uno por uno\n",
    "for arch in archivos_xlsx:\n",
    "    df = pd.read_excel(arch)\n",
    "    dfs.append(df)\n",
    "\n",
    "# Crear el data frame final de delitos\n",
    "df_delitos = pd.concat(dfs, ignore_index=True) \n",
    "\n",
    "# Mostrar primeras filas del data frame de delitos\n",
    "df_delitos.head()\n",
    "    "
   ]
  },
  {
   "cell_type": "markdown",
   "id": "58016a6d-ac51-4be3-98df-343658e1def9",
   "metadata": {},
   "source": [
    "### Población de la Ciudad\n",
    "Para calcular la métrica de \"cantidad de delitos por 100.000 personas\", es necesario conocer la población de la Ciudad de Buenos Aires a lo largo de los años. Esta información se obtuvo del Instituto de Estadística y Censos de la Ciudad Autónoma de Buenos Aires. Se puede encontrar la información en el siguiente enlace: [Población total estimada por sexo, superficie y densidad poblacional según comuna. Ciudad de Buenos Aires. Años 2006/2023](https://www.estadisticaciudad.gob.ar/eyc/?p=76599)"
   ]
  },
  {
   "cell_type": "code",
   "execution_count": null,
   "id": "42f0e1a3-0cbe-4769-8eac-041dbb6ae0f6",
   "metadata": {},
   "outputs": [],
   "source": [
    "# Crear diccionario que va a almacenar la población de la Ciudad en cada año\n",
    "poblacion_ciudad = {\n",
    "    2016: 3059122,\n",
    "    2017: 3063728,\n",
    "    2018: 3068043,\n",
    "    2019: 3072029,\n",
    "    2021: 3078836,\n",
    "    2022: 3081550,\n",
    "    2023: 3083770\n",
    "}\n"
   ]
  }
 ],
 "metadata": {
  "kernelspec": {
   "display_name": "Python 3 (ipykernel)",
   "language": "python",
   "name": "python3"
  },
  "language_info": {
   "codemirror_mode": {
    "name": "ipython",
    "version": 3
   },
   "file_extension": ".py",
   "mimetype": "text/x-python",
   "name": "python",
   "nbconvert_exporter": "python",
   "pygments_lexer": "ipython3",
   "version": "3.12.3"
  }
 },
 "nbformat": 4,
 "nbformat_minor": 5
}
