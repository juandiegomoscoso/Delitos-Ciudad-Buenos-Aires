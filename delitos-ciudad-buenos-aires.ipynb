{
 "cells": [
  {
   "cell_type": "markdown",
   "id": "9acda74e-e312-4740-b8d1-e0005bf1e2d1",
   "metadata": {},
   "source": [
    "## Preparación del entorno"
   ]
  },
  {
   "cell_type": "code",
   "execution_count": 1,
   "id": "0ef49cee-50cc-4783-bd10-06ec5ca5688a",
   "metadata": {},
   "outputs": [],
   "source": [
    "# Importar bibliotecas necesarias para el análisis\n",
    "import numpy as np\n",
    "import pandas as pd"
   ]
  },
  {
   "cell_type": "markdown",
   "id": "287b956c-7a8f-4967-ae70-560cfbc15fd4",
   "metadata": {},
   "source": [
    "## Carga de datos"
   ]
  },
  {
   "cell_type": "markdown",
   "id": "a73157de-1011-44d2-a6bc-06ae59086506",
   "metadata": {},
   "source": [
    "### Delitos en la Ciudad\n",
    "El dataset utilizado en este análisis proviene del [Portal de Datos Abiertos del Gobierno de la Ciudad de Buenos Aires](https://data.buenosaires.gob.ar/dataset/delitos). El dataset abarca el período 2016-2023 Y los datos están organizados en archivos separados por año, donde cada archivo contiene la información de los delitos reportados en ese período específico. Los datos están disponibles bajo la licencia Creative Commons Attribution."
   ]
  },
  {
   "cell_type": "markdown",
   "id": "551e4cf3-cd6b-4c26-b9f4-b447418aaca3",
   "metadata": {},
   "source": [
    "El dataset incluye las siguientes variables:\n",
    "\n",
    "|Nombre|Tipo|Descripción|\n",
    "|------|----|-----------|\n",
    "|id-mapa o id-sum|integer|Identificador único.|\n",
    "|anio|date|Año en el que se registró el evento.|\n",
    "|mes|string|Mes en que ocurrió el evento.|\n",
    "|dia|string|Día de la semana en que ocurrió el evento.|\n",
    "|fecha|date|Fecha exacta del evento.|\n",
    "|franja|integer|Franja horaria en la que ocurrió el evento.|\n",
    "|tipo|string|Clasificación del tipo de delito.|\n",
    "|subtipo|string|Subtipo del delito, más específico.|\n",
    "|uso_arma|boolean|Indicador de uso de arma.|\n",
    "|uso_moto|boolean|Indicador de uso de moto en el evento.|\n",
    "|barrio|string|Barrio donde ocurrió el evento.|\n",
    "|comuna|integer|Comuna donde ocurrió el evento.|\n",
    "|latitud|float|Latitud geográfica donde ocurrió el evento.|\n",
    "|longitud|float|Longitud geográfica donde ocurrió el evento.|\n",
    "|cantidad|integer|Número de eventos registrados en esa ubicación y fecha.|"
   ]
  },
  {
   "cell_type": "code",
   "execution_count": null,
   "id": "55006062-dfc2-4a79-b294-87f99e455ba9",
   "metadata": {},
   "outputs": [
    {
     "data": {
      "text/html": [
       "<div>\n",
       "<style scoped>\n",
       "    .dataframe tbody tr th:only-of-type {\n",
       "        vertical-align: middle;\n",
       "    }\n",
       "\n",
       "    .dataframe tbody tr th {\n",
       "        vertical-align: top;\n",
       "    }\n",
       "\n",
       "    .dataframe thead th {\n",
       "        text-align: right;\n",
       "    }\n",
       "</style>\n",
       "<table border=\"1\" class=\"dataframe\">\n",
       "  <thead>\n",
       "    <tr style=\"text-align: right;\">\n",
       "      <th></th>\n",
       "      <th>id-mapa</th>\n",
       "      <th>anio</th>\n",
       "      <th>mes</th>\n",
       "      <th>dia</th>\n",
       "      <th>fecha</th>\n",
       "      <th>franja</th>\n",
       "      <th>tipo</th>\n",
       "      <th>subtipo</th>\n",
       "      <th>uso_arma</th>\n",
       "      <th>uso_moto</th>\n",
       "      <th>barrio</th>\n",
       "      <th>comuna</th>\n",
       "      <th>latitud</th>\n",
       "      <th>longitud</th>\n",
       "      <th>cantidad</th>\n",
       "      <th>id-sum</th>\n",
       "    </tr>\n",
       "  </thead>\n",
       "  <tbody>\n",
       "    <tr>\n",
       "      <th>0</th>\n",
       "      <td>500001.0</td>\n",
       "      <td>2016</td>\n",
       "      <td>ENERO</td>\n",
       "      <td>MARTES</td>\n",
       "      <td>2016-01-26</td>\n",
       "      <td>21.0</td>\n",
       "      <td>Robo</td>\n",
       "      <td>Robo total</td>\n",
       "      <td>NO</td>\n",
       "      <td>NO</td>\n",
       "      <td>VILLA REAL</td>\n",
       "      <td>10.0</td>\n",
       "      <td>-34.617668</td>\n",
       "      <td>-58.530961</td>\n",
       "      <td>1</td>\n",
       "      <td>NaN</td>\n",
       "    </tr>\n",
       "    <tr>\n",
       "      <th>1</th>\n",
       "      <td>500004.0</td>\n",
       "      <td>2016</td>\n",
       "      <td>ENERO</td>\n",
       "      <td>MIERCOLES</td>\n",
       "      <td>2016-01-20</td>\n",
       "      <td>16.0</td>\n",
       "      <td>Robo</td>\n",
       "      <td>Robo total</td>\n",
       "      <td>NO</td>\n",
       "      <td>NO</td>\n",
       "      <td>VILLA REAL</td>\n",
       "      <td>10.0</td>\n",
       "      <td>-34.620262</td>\n",
       "      <td>-58.530738</td>\n",
       "      <td>1</td>\n",
       "      <td>NaN</td>\n",
       "    </tr>\n",
       "    <tr>\n",
       "      <th>2</th>\n",
       "      <td>500007.0</td>\n",
       "      <td>2016</td>\n",
       "      <td>ENERO</td>\n",
       "      <td>DOMINGO</td>\n",
       "      <td>2016-01-03</td>\n",
       "      <td>13.0</td>\n",
       "      <td>Robo</td>\n",
       "      <td>Robo total</td>\n",
       "      <td>SI</td>\n",
       "      <td>NO</td>\n",
       "      <td>LINIERS</td>\n",
       "      <td>9.0</td>\n",
       "      <td>-34.640094</td>\n",
       "      <td>-58.529826</td>\n",
       "      <td>1</td>\n",
       "      <td>NaN</td>\n",
       "    </tr>\n",
       "    <tr>\n",
       "      <th>3</th>\n",
       "      <td>500010.0</td>\n",
       "      <td>2016</td>\n",
       "      <td>ENERO</td>\n",
       "      <td>SABADO</td>\n",
       "      <td>2016-01-09</td>\n",
       "      <td>17.0</td>\n",
       "      <td>Robo</td>\n",
       "      <td>Robo total</td>\n",
       "      <td>NO</td>\n",
       "      <td>NO</td>\n",
       "      <td>LINIERS</td>\n",
       "      <td>9.0</td>\n",
       "      <td>-34.640094</td>\n",
       "      <td>-58.529826</td>\n",
       "      <td>1</td>\n",
       "      <td>NaN</td>\n",
       "    </tr>\n",
       "    <tr>\n",
       "      <th>4</th>\n",
       "      <td>500013.0</td>\n",
       "      <td>2016</td>\n",
       "      <td>ENERO</td>\n",
       "      <td>LUNES</td>\n",
       "      <td>2016-01-25</td>\n",
       "      <td>18.0</td>\n",
       "      <td>Robo</td>\n",
       "      <td>Robo total</td>\n",
       "      <td>NO</td>\n",
       "      <td>NO</td>\n",
       "      <td>LINIERS</td>\n",
       "      <td>9.0</td>\n",
       "      <td>-34.640094</td>\n",
       "      <td>-58.529826</td>\n",
       "      <td>1</td>\n",
       "      <td>NaN</td>\n",
       "    </tr>\n",
       "  </tbody>\n",
       "</table>\n",
       "</div>"
      ],
      "text/plain": [
       "    id-mapa  anio    mes        dia       fecha  franja  tipo     subtipo  \\\n",
       "0  500001.0  2016  ENERO     MARTES  2016-01-26    21.0  Robo  Robo total   \n",
       "1  500004.0  2016  ENERO  MIERCOLES  2016-01-20    16.0  Robo  Robo total   \n",
       "2  500007.0  2016  ENERO    DOMINGO  2016-01-03    13.0  Robo  Robo total   \n",
       "3  500010.0  2016  ENERO     SABADO  2016-01-09    17.0  Robo  Robo total   \n",
       "4  500013.0  2016  ENERO      LUNES  2016-01-25    18.0  Robo  Robo total   \n",
       "\n",
       "  uso_arma uso_moto      barrio comuna    latitud   longitud  cantidad  id-sum  \n",
       "0       NO       NO  VILLA REAL   10.0 -34.617668 -58.530961         1     NaN  \n",
       "1       NO       NO  VILLA REAL   10.0 -34.620262 -58.530738         1     NaN  \n",
       "2       SI       NO     LINIERS    9.0 -34.640094 -58.529826         1     NaN  \n",
       "3       NO       NO     LINIERS    9.0 -34.640094 -58.529826         1     NaN  \n",
       "4       NO       NO     LINIERS    9.0 -34.640094 -58.529826         1     NaN  "
      ]
     },
     "execution_count": 2,
     "metadata": {},
     "output_type": "execute_result"
    }
   ],
   "source": [
    "# Lista de archivos que hay que importar (delitos desde 2016 hasta 2023)\n",
    "# Los archivos están almacenados en la misma carpeta que el notebook Jupyter\n",
    "archivos_csv = [\n",
    "    \"delitos_2016.csv\",\n",
    "    \"delitos_2017.csv\",\n",
    "    \"delitos_2018.csv\",\n",
    "    \"delitos_2019.csv\",\n",
    "    \"delitos_2020.csv\",\n",
    "    \"delitos_2021.csv\",\n",
    "    \"delitos_2022.csv\",\n",
    "    \"delitos_2023.csv\"\n",
    "]\n",
    "\n",
    "# Crear lista para almacenar todos los data frames\n",
    "dfs = []\n",
    "\n",
    "# Importar los archivos de delitos uno por uno\n",
    "for arch in archivos_csv:\n",
    "    try:\n",
    "        if arch != \"delitos_2023.csv\": #El arch de 2023 utiliza \";\" como separadores, en lugar de \",\"\n",
    "            df = pd.read_csv(arch)\n",
    "        else:\n",
    "            df = pd.read_csv(arch, sep=\";\")\n",
    "        dfs.append(df)\n",
    "    except FileNotFoundError:\n",
    "        print(f\"Advertencia: El archivo {arch} no fue encontrado y será omitido.\")\n",
    "    except Exception as e:\n",
    "        print(f\"Error al leer el archivo {arch}: {e}\")\n",
    "\n",
    "# Crear el data frame final de delitos si se cargaron datos\n",
    "if dfs:\n",
    "    df_delitos = pd.concat(dfs, ignore_index=True)\n",
    "    print(f\"Se cargaron {len(dfs)} archivos. Total de registros: {len(df_delitos)}\")\n",
    "    # Mostrar primeras filas del data frame de delitos\n",
    "    display(df_delitos.head())\n",
    "else:\n",
    "    print(\"No se cargó ningún archivo de datos. Verifique la ruta y los nombres de los archivos.\")\n",
    "    # Crear un DataFrame vacío para evitar errores posteriores\n",
    "    df_delitos = pd.DataFrame()"
   ]
  },
  {
   "cell_type": "markdown",
   "id": "1bd2031d-ed11-4e14-8666-61283287a05b",
   "metadata": {},
   "source": [
    "### Población de la Ciudad\n",
    "Para calcular la métrica de \"cantidad de delitos por 100.000 personas\", es necesario conocer la población de la Ciudad de Buenos Aires a lo largo de los años. Esta información se obtuvo del Instituto de Estadística y Censos de la Ciudad Autónoma de Buenos Aires. Se puede encontrar la información en el siguiente enlace: [Población total estimada por sexo, superficie y densidad poblacional según comuna. Ciudad de Buenos Aires. Años 2006/2023](https://www.estadisticaciudad.gob.ar/eyc/?p=76599)"
   ]
  },
  {
   "cell_type": "code",
   "execution_count": 3,
   "id": "f6eb52df-6fb1-411d-8603-b8e5d16e5a4a",
   "metadata": {},
   "outputs": [],
   "source": [
    "# Crear diccionario que va a almacenar la población de la Ciudad en cada año\n",
    "poblacion_ciudad = {\n",
    "    2016: 3059122,\n",
    "    2017: 3063728,\n",
    "    2018: 3068043,\n",
    "    2019: 3072029,\n",
    "    2020: 3075646,\n",
    "    2021: 3078836,\n",
    "    2022: 3081550,\n",
    "    2023: 3083770\n",
    "}"
   ]
  },
  {
   "cell_type": "markdown",
   "id": "331c2651-ed2a-4fd4-839f-56446d846e2c",
   "metadata": {},
   "source": [
    "## Limpieza de datos"
   ]
  },
  {
   "cell_type": "markdown",
   "id": "5a0d8983-6554-4a83-a54f-ab1a2f99a0d1",
   "metadata": {},
   "source": [
    "### Limpieza de columnas id-mapa y id-sum"
   ]
  },
  {
   "cell_type": "code",
   "execution_count": null,
   "id": "cdf9529d-a32d-4643-9cec-0fe4bf9b753c",
   "metadata": {},
   "outputs": [
    {
     "name": "stdout",
     "output_type": "stream",
     "text": [
      "Ids faltantes: 0\n"
     ]
    }
   ],
   "source": [
    "# Algunos archivos utilizan \"id-mapa\" como id y otros utilizan \"id-sum\".\n",
    "# Crear columna que almacene los ids de los delitos reportados\n",
    "if 'id' not in df_delitos.columns:\n",
    "    df_delitos['id'] = df_delitos['id-mapa'].fillna(df_delitos['id-sum'])"
   ]
  },
  {
   "cell_type": "code",
   "execution_count": null,
   "id": "3bd52240-baec-44d0-9df2-a609bd9975e1",
   "metadata": {},
   "outputs": [],
   "source": [
    "# Verificar que no halla ids faltantes\n",
    "print(f\"Ids faltantes: {df_delitos['id'].isna().sum()}\")"
   ]
  },
  {
   "cell_type": "code",
   "execution_count": null,
   "id": "9fe684a5-6c2d-4d92-8dc3-7aaf6874ce35",
   "metadata": {},
   "outputs": [],
   "source": [
    "# Eliminar columnas \"id-mapa\" y \"id-sum\"\n",
    "if 'id-mapa' in df_delitos.columns:\n",
    "    df_delitos.drop('id-mapa', axis=1, inplace=True)\n",
    "if 'id-sum' in df_delitos.columns:\n",
    "    df_delitos.drop('id-sum', axis=1, inplace=True)"
   ]
  },
  {
   "cell_type": "markdown",
   "id": "0b9ae8c9-0088-4331-aac7-4db64cfe1bff",
   "metadata": {},
   "source": [
    "### Limpieza de la columna \"anio\":"
   ]
  },
  {
   "cell_type": "code",
   "execution_count": 5,
   "id": "50d2252c-ed29-464f-8a4a-d8cad120d810",
   "metadata": {},
   "outputs": [
    {
     "name": "stdout",
     "output_type": "stream",
     "text": [
      "cantidad de anios invalidos: 0\n",
      "tipo de dato: int64\n",
      "nuevo tipo de dato: int16\n"
     ]
    }
   ],
   "source": [
    "# Verificar que los años son correctos\n",
    "anios_invalidos = df_delitos[(df_delitos[\"anio\"] < 2016) | (df_delitos[\"anio\"] > 2023)]\n",
    "print(f\"cantidad de anios invalidos: {len(anios_invalidos)}\")"
   ]
  },
  {
   "cell_type": "code",
   "execution_count": null,
   "id": "7f397dc4-0f01-4f94-bac4-93e666cb4a60",
   "metadata": {},
   "outputs": [],
   "source": [
    "# Verificar el tipo de dato de la columna\n",
    "print(f\"tipo de dato: {df_delitos[\"anio\"].dtype}\")"
   ]
  },
  {
   "cell_type": "code",
   "execution_count": null,
   "id": "65a581c3-7772-4dbd-a868-cccac2510092",
   "metadata": {},
   "outputs": [],
   "source": [
    "# Convertir en un tipo de entero más pequeño\n",
    "df_delitos[\"anio\"] = df_delitos[\"anio\"].astype(\"int16\")\n",
    "print(f\"nuevo tipo de dato: {df_delitos[\"anio\"].dtype}\")"
   ]
  },
  {
   "cell_type": "markdown",
   "id": "53cde5fa-729d-431c-a0ea-effac13bb1bc",
   "metadata": {},
   "source": [
    "### Limpieza de la columna \"mes\":"
   ]
  },
  {
   "cell_type": "code",
   "execution_count": 6,
   "id": "11087fde-453f-4038-a7fc-818c9de944c3",
   "metadata": {},
   "outputs": [
    {
     "name": "stdout",
     "output_type": "stream",
     "text": [
      "meses: ENERO FEBRERO MARZO ABRIL MAYO JUNIO JULIO AGOSTO SEPTIEMBRE OCTUBRE NOVIEMBRE DICIEMBRE \n",
      "tipo de dato: object\n",
      "nuevo tipo de dato: string\n"
     ]
    }
   ],
   "source": [
    "# Verificar que los valores son válidos\n",
    "print(\"meses:\", end=\" \")\n",
    "for mes in df_delitos[\"mes\"].unique():\n",
    "    print(mes, end=\" \")\n",
    "print()"
   ]
  },
  {
   "cell_type": "code",
   "execution_count": null,
   "id": "884e7ba2-cc02-4da0-9f66-9a79e3933a9c",
   "metadata": {},
   "outputs": [],
   "source": [
    "# Verificar tipo de dato\n",
    "print(f\"tipo de dato: {df_delitos[\"mes\"].dtype}\")"
   ]
  },
  {
   "cell_type": "code",
   "execution_count": null,
   "id": "3a9046b5-1968-42bc-b06a-56cd900dac83",
   "metadata": {},
   "outputs": [],
   "source": [
    "# Convertir a tipo de dato correcto\n",
    "df_delitos[\"mes\"] = df_delitos[\"mes\"].astype(\"string\")\n",
    "print(f\"nuevo tipo de dato: {df_delitos[\"mes\"].dtype}\")"
   ]
  },
  {
   "cell_type": "markdown",
   "id": "209c3ac7-ded7-40de-829f-10f59edd4e88",
   "metadata": {},
   "source": [
    "### Limpieza de la columna \"dia\":"
   ]
  },
  {
   "cell_type": "code",
   "execution_count": 7,
   "id": "359baa3e-f7ba-433f-8a6f-d85070cfff5c",
   "metadata": {},
   "outputs": [
    {
     "name": "stdout",
     "output_type": "stream",
     "text": [
      "dias de la semana: MARTES MIERCOLES DOMINGO SABADO LUNES VIERNES JUEVES SÁBADO MIÉRCOLES \n",
      "dias de la semana corregidos: MARTES MIERCOLES DOMINGO SABADO LUNES VIERNES JUEVES \n",
      "tipo de dato: object\n",
      "nuevo tipo de dato: string\n"
     ]
    }
   ],
   "source": [
    "# Verificar que los días de la semana sean válidos\n",
    "print(\"dias de la semana:\", end=\" \")\n",
    "for dia in df_delitos[\"dia\"].unique():\n",
    "    print(dia, end=\" \")\n",
    "print()"
   ]
  },
  {
   "cell_type": "code",
   "execution_count": null,
   "id": "bf7f96a7-8f54-46c3-af4d-24ba3aafd4b5",
   "metadata": {},
   "outputs": [],
   "source": [
    "# Se detectó un error en los datos: Los días \"SÁBADO\" y \"MIÉRCOLES\" aparecen con y sin tilde\n",
    "# Para solucionar esto, se normalizan los valores eliminado los tildes para mantener la consistencia\n",
    "df_delitos.loc[df_delitos[\"dia\"] == \"SÁBADO\", \"dia\"] = \"SABADO\"\n",
    "df_delitos.loc[df_delitos[\"dia\"] == \"MIÉRCOLES\", \"dia\"] = \"MIERCOLES\""
   ]
  },
  {
   "cell_type": "code",
   "execution_count": null,
   "id": "d1908a4c-27bb-4ed1-abe6-ce89ddd059d7",
   "metadata": {},
   "outputs": [],
   "source": [
    "# Verificar los cambios\n",
    "print(\"dias de la semana corregidos:\", end=\" \")\n",
    "for dia in df_delitos[\"dia\"].unique():\n",
    "    print(dia, end=\" \")\n",
    "print()"
   ]
  },
  {
   "cell_type": "code",
   "execution_count": null,
   "id": "359f4b18-f723-48e0-90c9-aa21f51f101f",
   "metadata": {},
   "outputs": [],
   "source": [
    "# Verificar el tipo de dato\n",
    "print(f\"tipo de dato: {df_delitos[\"dia\"].dtype}\")"
   ]
  },
  {
   "cell_type": "code",
   "execution_count": null,
   "id": "07005ab9-8b93-4946-a704-15e7f91dd8dd",
   "metadata": {},
   "outputs": [],
   "source": [
    "# Coventir al tipo de dato correcto\n",
    "df_delitos[\"dia\"] = df_delitos[\"dia\"].astype(\"string\")\n",
    "print(f\"nuevo tipo de dato: {df_delitos[\"dia\"].dtype}\")"
   ]
  },
  {
   "cell_type": "markdown",
   "id": "31c8901d-6848-48e9-8d32-a9cbdfe1c8fa",
   "metadata": {},
   "source": [
    "### Limpieza de la columna \"fecha\":"
   ]
  },
  {
   "cell_type": "code",
   "execution_count": 8,
   "id": "c298b22a-5d69-494d-9770-313a94b6913b",
   "metadata": {
    "scrolled": true
   },
   "outputs": [
    {
     "name": "stdout",
     "output_type": "stream",
     "text": [
      "tipo de dato: object\n",
      "nuevo tipo de dato: datetime64[ns]\n",
      "cantidad de fechas fuera de rango: 0\n"
     ]
    }
   ],
   "source": [
    "# Verificar el tipo de dato\n",
    "print(f\"tipo de dato: {df_delitos[\"fecha\"].dtype}\")"
   ]
  },
  {
   "cell_type": "code",
   "execution_count": null,
   "id": "8830bdb1-b8f0-4c81-98bf-2eeee1a410fd",
   "metadata": {},
   "outputs": [],
   "source": [
    "# Convertir la columna fecha al tipo de dato correcto para facilitar el análisis\n",
    "df_delitos[\"fecha\"] = pd.to_datetime(df_delitos[\"fecha\"], format=\"mixed\", errors=\"coerce\")\n",
    "# Verificar si hubo errores en la conversión\n",
    "errores_fecha = df_delitos[\"fecha\"].isna().sum()\n",
    "if errores_fecha > 0:\n",
    "    print(f\"Advertencia: {errores_fecha} fechas no se pudieron convertir y serán reemplazadas por NaT.\")\n",
    "# Convertir a tipo de dato correcto \n",
    "print(f\"nuevo tipo de dato: {df_delitos[\"fecha\"].dtype}\")"
   ]
  },
  {
   "cell_type": "code",
   "execution_count": null,
   "id": "c8964b2d-e0b0-417c-87e3-20ad8617e545",
   "metadata": {},
   "outputs": [],
   "source": [
    "# Verificar que las fechas esten en el rango correcto\n",
    "fechas_invalidas = df_delitos[\n",
    "    ~(df_delitos['fecha'].dt.year.between(2016, 2023))\n",
    "]\n",
    "print(f\"cantidad de fechas fuera de rango: {len(fechas_invalidas)}\")"
   ]
  },
  {
   "cell_type": "markdown",
   "id": "b8d61943-7469-40c5-8877-3f9521779feb",
   "metadata": {},
   "source": [
    "### Limpieza de la columna \"franja\""
   ]
  },
  {
   "cell_type": "code",
   "execution_count": 9,
   "id": "b20f23ac-9235-49c6-8359-64799cedb884",
   "metadata": {},
   "outputs": [
    {
     "name": "stdout",
     "output_type": "stream",
     "text": [
      "cantidad de franjas invalidas: 0\n",
      "2328\n",
      "tipo de dato: float64\n",
      "nuevo tipo de dato: Int8\n"
     ]
    }
   ],
   "source": [
    "# Verificar que los valores son válidos (0-23)\n",
    "franjas_invalidas = df_delitos[(df_delitos[\"franja\"] < 0) | (df_delitos[\"franja\"] > 23)]\n",
    "print(f\"cantidad de franjas invalidas: {len(franjas_invalidas)}\")"
   ]
  },
  {
   "cell_type": "code",
   "execution_count": null,
   "id": "39ab85a3-2515-4ab7-98ec-a6e101bdf1e4",
   "metadata": {},
   "outputs": [],
   "source": [
    "# Verificar si hay valores faltantes\n",
    "val_faltantes = df_delitos[\"franja\"].isnull().sum()\n",
    "print(val_faltantes)"
   ]
  },
  {
   "cell_type": "code",
   "execution_count": null,
   "id": "270b7213-6515-4c87-94c4-4b1e9f917c37",
   "metadata": {},
   "outputs": [],
   "source": [
    "# Verificar tipo de dato\n",
    "print(f\"tipo de dato: {df_delitos[\"franja\"].dtype}\")"
   ]
  },
  {
   "cell_type": "code",
   "execution_count": null,
   "id": "930b4992-d03a-412a-b99c-866d4620b6c5",
   "metadata": {},
   "outputs": [],
   "source": [
    "# Convertir al tipo de dato correcto\n",
    "df_delitos[\"franja\"] = df_delitos[\"franja\"].astype(\"Int8\")\n",
    "print(f\"nuevo tipo de dato: {df_delitos[\"franja\"].dtype}\")"
   ]
  },
  {
   "cell_type": "markdown",
   "id": "cc3f9ef3-71dc-4d01-9aa5-f8abab51c0c1",
   "metadata": {},
   "source": [
    "### Limpieza de la columna \"tipo\":"
   ]
  },
  {
   "cell_type": "code",
   "execution_count": 10,
   "id": "cf851f53-2623-4916-9bf7-96c9032791bf",
   "metadata": {},
   "outputs": [
    {
     "name": "stdout",
     "output_type": "stream",
     "text": [
      "tipos de delitos: ['Robo' 'Hurto' 'Vialidad' 'Homicidios' 'Amenazas' 'Lesiones']\n",
      "tipo de dato: object\n",
      "nuevo tipo de dato: string\n"
     ]
    }
   ],
   "source": [
    "# Verificar que los valores sean válidos\n",
    "print(f\"tipos de delitos: {df_delitos[\"tipo\"].unique()}\")"
   ]
  },
  {
   "cell_type": "code",
   "execution_count": null,
   "id": "cb2cc125-a96b-4932-868b-a92da4702784",
   "metadata": {},
   "outputs": [],
   "source": [
    "# Verificar tipo de dato\n",
    "print(f\"tipo de dato: {df_delitos[\"tipo\"].dtype}\")"
   ]
  },
  {
   "cell_type": "code",
   "execution_count": null,
   "id": "403cb017-1a69-41e6-baec-1152c9670183",
   "metadata": {},
   "outputs": [],
   "source": [
    "# Convertir al tipo de dato correcto\n",
    "df_delitos[\"tipo\"] = df_delitos[\"tipo\"].astype(\"string\")\n",
    "print(f\"nuevo tipo de dato: {df_delitos[\"tipo\"].dtype}\")"
   ]
  },
  {
   "cell_type": "markdown",
   "id": "2b860666-4c8c-4af7-85f7-3cbbbc65aabf",
   "metadata": {},
   "source": [
    "### Limpieza de la columna \"subtipo\":"
   ]
  },
  {
   "cell_type": "code",
   "execution_count": 11,
   "id": "7accb305-c489-45a5-9c57-bf6a53c3b214",
   "metadata": {},
   "outputs": [
    {
     "name": "stdout",
     "output_type": "stream",
     "text": [
      "tipos de delitos: ['Robo total' 'Robo automotor' 'Hurto automotor' 'Hurto total'\n",
      " 'Lesiones por siniestros viales' 'Homicidios dolosos' 'Femicidios'\n",
      " 'Amenazas' 'Lesiones Dolosas' 'Muertes por siniestros viales'\n",
      " 'Homicidio Doloso']\n",
      "tipos de delitos: ['Robo total' 'Robo automotor' 'Hurto automotor' 'Hurto total'\n",
      " 'Lesiones por siniestros viales' 'Homicidios dolosos' 'Femicidios'\n",
      " 'Amenazas' 'Lesiones Dolosas' 'Muertes por siniestros viales']\n",
      "tipo de dato: object\n",
      "nuevo tipo de dato: string\n"
     ]
    }
   ],
   "source": [
    "# Verificar que los valores sean válidos\n",
    "print(f\"tipos de delitos: {df_delitos[\"subtipo\"].unique()}\")"
   ]
  },
  {
   "cell_type": "code",
   "execution_count": null,
   "id": "6d5cc8c9-ef65-407a-9e38-402ff3d8d336",
   "metadata": {},
   "outputs": [],
   "source": [
    "# Hay dos valores, \"Homicidios dolosos\" y \"Homicidio Doloso\", que deberían ser uno solo\n",
    "\n",
    "# Unificar las dos categorias\n",
    "df_delitos[\"subtipo\"] = df_delitos[\"subtipo\"].replace(\"Homicidio Doloso\", \"Homicidios dolosos\")"
   ]
  },
  {
   "cell_type": "code",
   "execution_count": null,
   "id": "d87c2f5f-b025-4a59-b35e-cf5383dfdd80",
   "metadata": {},
   "outputs": [],
   "source": [
    "# Verificar cambios\n",
    "print(f\"tipos de delitos: {df_delitos[\"subtipo\"].unique()}\")"
   ]
  },
  {
   "cell_type": "code",
   "execution_count": null,
   "id": "62197926-ee32-42c5-b735-6db886be9e0e",
   "metadata": {},
   "outputs": [],
   "source": [
    "# Verificar tipo de dato\n",
    "print(f\"tipo de dato: {df_delitos[\"subtipo\"].dtype}\")"
   ]
  },
  {
   "cell_type": "code",
   "execution_count": null,
   "id": "0b6a5108-b036-4bae-93f6-707f25c97cd0",
   "metadata": {},
   "outputs": [],
   "source": [
    "# Convertir al tipo de dato correcto\n",
    "df_delitos[\"subtipo\"] = df_delitos[\"subtipo\"].astype(\"string\")\n",
    "print(f\"nuevo tipo de dato: {df_delitos[\"subtipo\"].dtype}\")"
   ]
  },
  {
   "cell_type": "markdown",
   "id": "41614f57-7a07-42dd-af45-2eb922a83dee",
   "metadata": {},
   "source": [
    "### Limpieza de la columna \"uso_arma\":"
   ]
  },
  {
   "cell_type": "code",
   "execution_count": 21,
   "id": "4a9d643e-d9c5-4e41-9e85-431f834a76cc",
   "metadata": {},
   "outputs": [
    {
     "name": "stdout",
     "output_type": "stream",
     "text": [
      "cantidad de faltantes en 'uso_arma': 0\n",
      "cantidad de faltantes en 'uso_moto': 0\n",
      "valores en 'uso_arma': [False  True]\n",
      "valores en 'uso_moto': [False  True]\n",
      "tipo de dato: bool\n"
     ]
    }
   ],
   "source": [
    "# Verificar si hay valores faltantes\n",
    "print(f\"cantidad de faltantes en 'uso_arma': {df_delitos[\"uso_arma\"].isna().sum()}\")"
   ]
  },
  {
   "cell_type": "code",
   "execution_count": null,
   "id": "15398c59-8220-4581-938d-0426d7959c80",
   "metadata": {},
   "outputs": [],
   "source": [
    "# Convertir columnas 'uso_arma' y 'uso_moto' de SI/NO a valores booleanos\n",
    "# para facilitar el análisis\n",
    "bool_conversion = {\"SI\": True, \"NO\": False}\n",
    "df_delitos[\"uso_arma\"] = df_delitos[\"uso_arma\"].apply(lambda x: bool_conversion.get(x, x))"
   ]
  },
  {
   "cell_type": "code",
   "execution_count": null,
   "id": "084006a7-8ac4-40ac-bf0b-a00aafbd4844",
   "metadata": {},
   "outputs": [],
   "source": [
    "# Verifico los cambios\n",
    "print(f\"valores en 'uso_arma': {df_delitos[\"uso_arma\"].unique()}\")"
   ]
  },
  {
   "cell_type": "code",
   "execution_count": null,
   "id": "a7b324f7-d221-4638-b838-dcdc96489977",
   "metadata": {},
   "outputs": [],
   "source": [
    "# Verifico el tipo de dato\n",
    "print(f\"tipo de dato: {df_delitos[\"uso_arma\"].dtype}\")"
   ]
  },
  {
   "cell_type": "markdown",
   "id": "cf1fa283-f44c-4b58-8be9-56e6a1c1075e",
   "metadata": {},
   "source": [
    "### Limpieza de la columna \"uso_moto\":"
   ]
  },
  {
   "cell_type": "code",
   "execution_count": 21,
   "id": "c8730472-36df-435b-a511-4b6a5d376dbe",
   "metadata": {},
   "outputs": [
    {
     "name": "stdout",
     "output_type": "stream",
     "text": [
      "cantidad de faltantes en 'uso_arma': 0\n",
      "cantidad de faltantes en 'uso_moto': 0\n",
      "valores en 'uso_arma': [False  True]\n",
      "valores en 'uso_moto': [False  True]\n",
      "tipo de dato: bool\n"
     ]
    }
   ],
   "source": [
    "# Verificar si hay valores faltantes\n",
    "print(f\"cantidad de faltantes en 'uso_moto': {df_delitos[\"uso_moto\"].isna().sum()}\")"
   ]
  },
  {
   "cell_type": "code",
   "execution_count": null,
   "id": "800ede0b-8313-4231-9b95-d97e4cf14a47",
   "metadata": {},
   "outputs": [],
   "source": [
    "# Convertir columnas 'uso_arma' y 'uso_moto' de SI/NO a valores booleanos\n",
    "# para facilitar el análisis\n",
    "bool_conversion = {\"SI\": True, \"NO\": False}\n",
    "df_delitos[\"uso_moto\"] = df_delitos[\"uso_moto\"].apply(lambda x: bool_conversion.get(x, x))"
   ]
  },
  {
   "cell_type": "code",
   "execution_count": null,
   "id": "efb6aedc-6bcb-4d5f-b15f-81a3528e9adb",
   "metadata": {},
   "outputs": [],
   "source": [
    "# Verifico los cambios\n",
    "print(f\"valores en 'uso_arma': {df_delitos[\"uso_moto\"].unique()}\")"
   ]
  },
  {
   "cell_type": "code",
   "execution_count": null,
   "id": "c88bae1f-bf37-42db-9aab-0de556f81138",
   "metadata": {},
   "outputs": [],
   "source": [
    "# Verifico el tipo de dato\n",
    "print(f\"tipo de dato: {df_delitos[\"uso_moto\"].dtype}\")"
   ]
  },
  {
   "cell_type": "markdown",
   "id": "8fcfeeea-d1fe-4dba-959f-66f16ce62975",
   "metadata": {},
   "source": [
    "### Limpieza de la columna barrio"
   ]
  },
  {
   "cell_type": "code",
   "execution_count": null,
   "id": "cd2bf1d3-1969-4dc0-a858-a64e9f94f739",
   "metadata": {
    "scrolled": true
   },
   "outputs": [],
   "source": [
    "# Asegurar que 'barrio' sea de tipo string\n",
    "if not df_delitos.empty and 'barrio' in df_delitos.columns:\n",
    "    print(f\"Tipo de dato original 'barrio': {df_delitos['barrio'].dtype}\")\n",
    "    if df_delitos['barrio'].dtype != 'string':\n",
    "        df_delitos[\"barrio\"] = df_delitos[\"barrio\"].astype(\"string\")\n",
    "    print(f\"Nuevo tipo de dato 'barrio': {df_delitos['barrio'].dtype}\")\n",
    "    print(f\"Valores faltantes en 'barrio': {df_delitos['barrio'].isna().sum()}\")"
   ]
  },
  {
   "cell_type": "markdown",
   "id": "70695636-ae0d-4b94-95b8-73ea56dab2b0",
   "metadata": {},
   "source": [
    "### Limpieza de la columna \"comuna\":"
   ]
  },
  {
   "cell_type": "code",
   "execution_count": null,
   "id": "9fcbf591-ba84-4419-b8f5-ecb3cc499277",
   "metadata": {},
   "outputs": [],
   "source": [
    "# Estandarizar valores de 'comuna'\n",
    "if not df_delitos.empty and 'comuna' in df_delitos.columns:\n",
    "    print(f\"Valores originales en 'comuna': {df_delitos['comuna'].unique()}\")\n",
    "\n",
    "    # Diccionario con correcciones básicas\n",
    "    dict_correciones = {\n",
    "        \"CC-01 NORTE\": 1,\n",
    "        \"CC-01 SUR\": 1,\n",
    "        \"CC-02\": 2,\n",
    "        \"CC-03\": 3,\n",
    "        \"CC-04\": 4,\n",
    "        \"CC-05\": 5,\n",
    "        \"CC-06\": 6,\n",
    "        \"CC-07\": 7,\n",
    "        \"CC-08\": 8,\n",
    "        \"CC-09\": 9,\n",
    "        \"CC-10\": 10,\n",
    "        \"CC-11\": 11,\n",
    "        \"CC-12\": 12,\n",
    "        \"CC-13\": 13,\n",
    "        \"CC-14\": 14,\n",
    "        \"CC-15\": 15,\n",
    "        \"Sin geo\": np.nan # Marcar 'Sin geo' como NaN\n",
    "    }\n",
    "\n",
    "    # Aplicar correcciones y convertir a numérico (errores a NaN)\n",
    "    df_delitos[\"comuna\"] = df_delitos[\"comuna\"].replace(dict_correciones)\n",
    "    df_delitos[\"comuna\"] = pd.to_numeric(df_delitos[\"comuna\"], errors='coerce')\n",
    "\n",
    "    print(f\"Valores estandarizados (antes de tipo Int8): {df_delitos['comuna'].unique()}\")\n",
    "\n",
    "    # Convertir a tipo Int8 (entero nullable)\n",
    "    print(f\"Tipo de dato original 'comuna': {df_delitos['comuna'].dtype}\")\n",
    "    df_delitos[\"comuna\"] = df_delitos[\"comuna\"].astype(\"Int8\")\n",
    "    print(f\"Nuevo tipo de dato 'comuna': {df_delitos['comuna'].dtype}\")\n",
    "    print(f\"Valores faltantes en 'comuna': {df_delitos['comuna'].isna().sum()}\")"
   ]
  },
  {
   "cell_type": "markdown",
   "id": "b207ec7e-e06f-4cac-b1fd-11c4a28be229",
   "metadata": {},
   "source": [
    "### Limpieza de las columnas \"latitud\" y \"longitud\""
   ]
  },
  {
   "cell_type": "code",
   "execution_count": null,
   "id": "22f8857c-a09b-4817-9646-960e11cc69a1",
   "metadata": {},
   "outputs": [],
   "source": [
    "# Asegurar que latitud y longitud sean de tipo float\n",
    "if not df_delitos.empty:\n",
    "    for col in ['latitud', 'longitud']:\n",
    "        if col in df_delitos.columns:\n",
    "            print(f\"Tipo de dato original '{col}': {df_delitos[col].dtype}\")\n",
    "            # Convertir a numérico, tratando errores\n",
    "            df_delitos[col] = pd.to_numeric(df_delitos[col], errors='coerce')\n",
    "            # No es necesario convertir a float explícitamente si to_numeric ya lo hizo\n",
    "            # df_delitos[col] = df_delitos[col].astype(float)\n",
    "            print(f\"Nuevo tipo de dato '{col}': {df_delitos[col].dtype}\")\n",
    "            print(f\"Valores faltantes en '{col}': {df_delitos[col].isna().sum()}\")"
   ]
  },
  {
   "cell_type": "markdown",
   "id": "ebe89f40-97dc-4060-8e16-7f927f8155f8",
   "metadata": {},
   "source": [
    "### Limpieza de la columna \"cantidad\""
   ]
  },
  {
   "cell_type": "code",
   "execution_count": null,
   "id": "37a95cf2-8638-4856-b1e7-10cd2ccd64e8",
   "metadata": {},
   "outputs": [],
   "source": [
    "# Asegurar que 'cantidad' sea de tipo entero\n",
    "if not df_delitos.empty and 'cantidad' in df_delitos.columns:\n",
    "    print(f\"Tipo de dato original 'cantidad': {df_delitos['cantidad'].dtype}\")\n",
    "    # Convertir a numérico primero, tratando errores\n",
    "    df_delitos[\"cantidad\"] = pd.to_numeric(df_delitos[\"cantidad\"], errors='coerce')\n",
    "\n",
    "    # Verificar valores faltantes (incluye los que no se pudieron convertir)\n",
    "    print(f\"Valores faltantes en 'cantidad' (antes de Int): {df_delitos['cantidad'].isna().sum()}\")\n",
    "\n",
    "    # Convertir a tipo Int16 (entero nullable)\n",
    "    df_delitos[\"cantidad\"] = df_delitos[\"cantidad\"].astype(\"Int16\")\n",
    "    print(f\"Nuevo tipo de dato 'cantidad': {df_delitos['cantidad'].dtype}\")\n",
    "    print(f\"Valores faltantes en 'cantidad' (después de Int): {df_delitos['cantidad'].isna().sum()}\")"
   ]
  },
  {
   "cell_type": "markdown",
   "id": "bb2da79a-f59f-46c4-926c-2ed52b17b3af",
   "metadata": {},
   "source": [
    "### Limpieza de duplicados"
   ]
  },
  {
   "cell_type": "code",
   "execution_count": null,
   "id": "08d4c051-2f3a-410e-9367-a3ff779d7099",
   "metadata": {},
   "outputs": [],
   "source": [
    "# Hallar si hay registros duplicados completos\n",
    "if not df_delitos.empty:\n",
    "    duplicados = df_delitos.duplicated().sum()\n",
    "    print(f\"Número de filas duplicadas: {duplicados}\")\n",
    "    # Opcional: eliminar duplicados si se desea\n",
    "    # df_delitos = df_delitos.drop_duplicates()"
   ]
  },
  {
   "cell_type": "markdown",
   "id": "f376c597-691a-4dd2-aebc-9d93e690c768",
   "metadata": {},
   "source": [
    "### Tipos de dato final "
   ]
  },
  {
   "cell_type": "code",
   "execution_count": null,
   "id": "75b4cec1-f05c-47c3-9f1c-1c44ce36617e",
   "metadata": {},
   "outputs": [],
   "source": [
    "# Ver el tipo de dato final de todas las columnas\n",
    "if not df_delitos.empty:\n",
    "    print(\"\\nTipos de datos finales de las columnas:\")\n",
    "    display(df_delitos.dtypes)"
   ]
  },
  {
   "cell_type": "markdown",
   "id": "0cd53c03-7ee0-4a3d-a245-b70a40302462",
   "metadata": {},
   "source": [
    "### Mostrar información del DataFrame final"
   ]
  },
  {
   "cell_type": "code",
   "execution_count": null,
   "id": "c807a41d-f00f-47d6-b70b-64b2dc2e4653",
   "metadata": {},
   "outputs": [],
   "source": [
    "# Mostrar información general del DataFrame limpio\n",
    "if not df_delitos.empty:\n",
    "    print(\"\\nInformación general del DataFrame:\")\n",
    "    df_delitos.info()"
   ]
  }
 ],
 "metadata": {
  "kernelspec": {
   "display_name": "Python 3 (ipykernel)",
   "language": "python",
   "name": "python3"
  },
  "language_info": {
   "codemirror_mode": {
    "name": "ipython",
    "version": 3
   },
   "file_extension": ".py",
   "mimetype": "text/x-python",
   "name": "python",
   "nbconvert_exporter": "python",
   "pygments_lexer": "ipython3",
   "version": "3.12.3"
  }
 },
 "nbformat": 4,
 "nbformat_minor": 5
}
