{
 "cells": [
  {
   "cell_type": "markdown",
   "id": "9acda74e-e312-4740-b8d1-e0005bf1e2d1",
   "metadata": {},
   "source": [
    "## Preparación del entorno"
   ]
  },
  {
   "cell_type": "code",
   "execution_count": 4,
   "id": "0ef49cee-50cc-4783-bd10-06ec5ca5688a",
   "metadata": {},
   "outputs": [],
   "source": [
    "# Importar bibliotecas necesarias para el análisis\n",
    "import numpy as np\n",
    "import pandas as pd\n",
    "import matplotlib.pyplot as plt\n",
    "import seaborn as sns"
   ]
  },
  {
   "cell_type": "markdown",
   "id": "287b956c-7a8f-4967-ae70-560cfbc15fd4",
   "metadata": {},
   "source": [
    "## Carga de datos"
   ]
  },
  {
   "cell_type": "markdown",
   "id": "a73157de-1011-44d2-a6bc-06ae59086506",
   "metadata": {},
   "source": [
    "### Delitos en la Ciudad\n",
    "El dataset utilizado en este análisis proviene del [Portal de Datos Abiertos del Gobierno de la Ciudad de Buenos Aires](https://data.buenosaires.gob.ar/dataset/delitos). El dataset abarca el período 2016-2023 Y los datos están organizados en archivos separados por año, donde cada archivo contiene la información de los delitos reportados en ese período específico. Los datos están disponibles bajo la licencia Creative Commons Attribution."
   ]
  },
  {
   "cell_type": "markdown",
   "id": "551e4cf3-cd6b-4c26-b9f4-b447418aaca3",
   "metadata": {},
   "source": [
    "El dataset incluye las siguientes variables:\n",
    "\n",
    "|Nombre|Tipo|Descripción|\n",
    "|------|----|-----------|\n",
    "|id-mapa o id-sum|integer|Identificador único.|\n",
    "|anio|date|Año en el que se registró el evento.|\n",
    "|mes|string|Mes en que ocurrió el evento.|\n",
    "|dia|string|Día de la semana en que ocurrió el evento.|\n",
    "|fecha|date|Fecha exacta del evento.|\n",
    "|franja|integer|Franja horaria en la que ocurrió el evento.|\n",
    "|tipo|string|Clasificación del tipo de delito.|\n",
    "|subtipo|string|Subtipo del delito, más específico.|\n",
    "|uso_arma|boolean|Indicador de uso de arma.|\n",
    "|uso_moto|boolean|Indicador de uso de moto en el evento.|\n",
    "|barrio|string|Barrio donde ocurrió el evento.|\n",
    "|comuna|integer|Comuna donde ocurrió el evento.|\n",
    "|latitud|float|Latitud geográfica donde ocurrió el evento.|\n",
    "|longitud|float|Longitud geográfica donde ocurrió el evento.|\n",
    "|cantidad|integer|Número de eventos registrados en esa ubicación y fecha.|"
   ]
  },
  {
   "cell_type": "code",
   "execution_count": 5,
   "id": "55006062-dfc2-4a79-b294-87f99e455ba9",
   "metadata": {},
   "outputs": [
    {
     "name": "stdout",
     "output_type": "stream",
     "text": [
      "Se cargaron 8 archivos. Total de registros: 1097145\n"
     ]
    },
    {
     "data": {
      "text/html": [
       "<div>\n",
       "<style scoped>\n",
       "    .dataframe tbody tr th:only-of-type {\n",
       "        vertical-align: middle;\n",
       "    }\n",
       "\n",
       "    .dataframe tbody tr th {\n",
       "        vertical-align: top;\n",
       "    }\n",
       "\n",
       "    .dataframe thead th {\n",
       "        text-align: right;\n",
       "    }\n",
       "</style>\n",
       "<table border=\"1\" class=\"dataframe\">\n",
       "  <thead>\n",
       "    <tr style=\"text-align: right;\">\n",
       "      <th></th>\n",
       "      <th>id-mapa</th>\n",
       "      <th>anio</th>\n",
       "      <th>mes</th>\n",
       "      <th>dia</th>\n",
       "      <th>fecha</th>\n",
       "      <th>franja</th>\n",
       "      <th>tipo</th>\n",
       "      <th>subtipo</th>\n",
       "      <th>uso_arma</th>\n",
       "      <th>uso_moto</th>\n",
       "      <th>barrio</th>\n",
       "      <th>comuna</th>\n",
       "      <th>latitud</th>\n",
       "      <th>longitud</th>\n",
       "      <th>cantidad</th>\n",
       "      <th>id-sum</th>\n",
       "    </tr>\n",
       "  </thead>\n",
       "  <tbody>\n",
       "    <tr>\n",
       "      <th>0</th>\n",
       "      <td>500001.0</td>\n",
       "      <td>2016</td>\n",
       "      <td>ENERO</td>\n",
       "      <td>MARTES</td>\n",
       "      <td>2016-01-26</td>\n",
       "      <td>21.0</td>\n",
       "      <td>Robo</td>\n",
       "      <td>Robo total</td>\n",
       "      <td>NO</td>\n",
       "      <td>NO</td>\n",
       "      <td>VILLA REAL</td>\n",
       "      <td>10.0</td>\n",
       "      <td>-34.617668</td>\n",
       "      <td>-58.530961</td>\n",
       "      <td>1</td>\n",
       "      <td>NaN</td>\n",
       "    </tr>\n",
       "    <tr>\n",
       "      <th>1</th>\n",
       "      <td>500004.0</td>\n",
       "      <td>2016</td>\n",
       "      <td>ENERO</td>\n",
       "      <td>MIERCOLES</td>\n",
       "      <td>2016-01-20</td>\n",
       "      <td>16.0</td>\n",
       "      <td>Robo</td>\n",
       "      <td>Robo total</td>\n",
       "      <td>NO</td>\n",
       "      <td>NO</td>\n",
       "      <td>VILLA REAL</td>\n",
       "      <td>10.0</td>\n",
       "      <td>-34.620262</td>\n",
       "      <td>-58.530738</td>\n",
       "      <td>1</td>\n",
       "      <td>NaN</td>\n",
       "    </tr>\n",
       "    <tr>\n",
       "      <th>2</th>\n",
       "      <td>500007.0</td>\n",
       "      <td>2016</td>\n",
       "      <td>ENERO</td>\n",
       "      <td>DOMINGO</td>\n",
       "      <td>2016-01-03</td>\n",
       "      <td>13.0</td>\n",
       "      <td>Robo</td>\n",
       "      <td>Robo total</td>\n",
       "      <td>SI</td>\n",
       "      <td>NO</td>\n",
       "      <td>LINIERS</td>\n",
       "      <td>9.0</td>\n",
       "      <td>-34.640094</td>\n",
       "      <td>-58.529826</td>\n",
       "      <td>1</td>\n",
       "      <td>NaN</td>\n",
       "    </tr>\n",
       "    <tr>\n",
       "      <th>3</th>\n",
       "      <td>500010.0</td>\n",
       "      <td>2016</td>\n",
       "      <td>ENERO</td>\n",
       "      <td>SABADO</td>\n",
       "      <td>2016-01-09</td>\n",
       "      <td>17.0</td>\n",
       "      <td>Robo</td>\n",
       "      <td>Robo total</td>\n",
       "      <td>NO</td>\n",
       "      <td>NO</td>\n",
       "      <td>LINIERS</td>\n",
       "      <td>9.0</td>\n",
       "      <td>-34.640094</td>\n",
       "      <td>-58.529826</td>\n",
       "      <td>1</td>\n",
       "      <td>NaN</td>\n",
       "    </tr>\n",
       "    <tr>\n",
       "      <th>4</th>\n",
       "      <td>500013.0</td>\n",
       "      <td>2016</td>\n",
       "      <td>ENERO</td>\n",
       "      <td>LUNES</td>\n",
       "      <td>2016-01-25</td>\n",
       "      <td>18.0</td>\n",
       "      <td>Robo</td>\n",
       "      <td>Robo total</td>\n",
       "      <td>NO</td>\n",
       "      <td>NO</td>\n",
       "      <td>LINIERS</td>\n",
       "      <td>9.0</td>\n",
       "      <td>-34.640094</td>\n",
       "      <td>-58.529826</td>\n",
       "      <td>1</td>\n",
       "      <td>NaN</td>\n",
       "    </tr>\n",
       "  </tbody>\n",
       "</table>\n",
       "</div>"
      ],
      "text/plain": [
       "    id-mapa  anio    mes        dia       fecha  franja  tipo     subtipo  \\\n",
       "0  500001.0  2016  ENERO     MARTES  2016-01-26    21.0  Robo  Robo total   \n",
       "1  500004.0  2016  ENERO  MIERCOLES  2016-01-20    16.0  Robo  Robo total   \n",
       "2  500007.0  2016  ENERO    DOMINGO  2016-01-03    13.0  Robo  Robo total   \n",
       "3  500010.0  2016  ENERO     SABADO  2016-01-09    17.0  Robo  Robo total   \n",
       "4  500013.0  2016  ENERO      LUNES  2016-01-25    18.0  Robo  Robo total   \n",
       "\n",
       "  uso_arma uso_moto      barrio comuna    latitud   longitud  cantidad  id-sum  \n",
       "0       NO       NO  VILLA REAL   10.0 -34.617668 -58.530961         1     NaN  \n",
       "1       NO       NO  VILLA REAL   10.0 -34.620262 -58.530738         1     NaN  \n",
       "2       SI       NO     LINIERS    9.0 -34.640094 -58.529826         1     NaN  \n",
       "3       NO       NO     LINIERS    9.0 -34.640094 -58.529826         1     NaN  \n",
       "4       NO       NO     LINIERS    9.0 -34.640094 -58.529826         1     NaN  "
      ]
     },
     "metadata": {},
     "output_type": "display_data"
    }
   ],
   "source": [
    "# Lista de archivos que hay que importar (delitos desde 2016 hasta 2023)\n",
    "# Los archivos están almacenados en la misma carpeta que el notebook Jupyter\n",
    "archivos_csv = [\n",
    "    \"delitos_2016.csv\",\n",
    "    \"delitos_2017.csv\",\n",
    "    \"delitos_2018.csv\",\n",
    "    \"delitos_2019.csv\",\n",
    "    \"delitos_2020.csv\",\n",
    "    \"delitos_2021.csv\",\n",
    "    \"delitos_2022.csv\",\n",
    "    \"delitos_2023.csv\"\n",
    "]\n",
    "\n",
    "# Crear lista para almacenar todos los data frames\n",
    "dfs = []\n",
    "\n",
    "# Importar los archivos de delitos uno por uno\n",
    "for arch in archivos_csv:\n",
    "    try:\n",
    "        if arch != \"delitos_2023.csv\": #El arch de 2023 utiliza \";\" como separadores, en lugar de \",\"\n",
    "            df = pd.read_csv(arch)\n",
    "        else:\n",
    "            df = pd.read_csv(arch, sep=\";\")\n",
    "        dfs.append(df)\n",
    "    except FileNotFoundError:\n",
    "        print(f\"Advertencia: El archivo {arch} no fue encontrado y será omitido.\")\n",
    "    except Exception as e:\n",
    "        print(f\"Error al leer el archivo {arch}: {e}\")\n",
    "\n",
    "# Crear el data frame final de delitos si se cargaron datos\n",
    "if dfs:\n",
    "    df_delitos = pd.concat(dfs, ignore_index=True)\n",
    "    print(f\"Se cargaron {len(dfs)} archivos. Total de registros: {len(df_delitos)}\")\n",
    "    # Mostrar primeras filas del data frame de delitos\n",
    "    display(df_delitos.head())\n",
    "else:\n",
    "    print(\"No se cargó ningún archivo de datos. Verifique la ruta y los nombres de los archivos.\")\n",
    "    # Crear un DataFrame vacío para evitar errores posteriores\n",
    "    df_delitos = pd.DataFrame()"
   ]
  },
  {
   "cell_type": "markdown",
   "id": "1bd2031d-ed11-4e14-8666-61283287a05b",
   "metadata": {},
   "source": [
    "### Población de la Ciudad\n",
    "Para calcular la métrica de \"cantidad de delitos por 100.000 personas\", es necesario conocer la población de la Ciudad de Buenos Aires a lo largo de los años. Esta información se obtuvo del Instituto de Estadística y Censos de la Ciudad Autónoma de Buenos Aires. Se puede encontrar la información en el siguiente enlace: [Población total estimada por sexo, superficie y densidad poblacional según comuna. Ciudad de Buenos Aires. Años 2006/2023](https://www.estadisticaciudad.gob.ar/eyc/?p=76599)"
   ]
  },
  {
   "cell_type": "code",
   "execution_count": 6,
   "id": "f6eb52df-6fb1-411d-8603-b8e5d16e5a4a",
   "metadata": {},
   "outputs": [],
   "source": [
    "# Crear diccionario que va a almacenar la población de la Ciudad en cada año\n",
    "poblacion_ciudad = {\n",
    "    2016: 3059122,\n",
    "    2017: 3063728,\n",
    "    2018: 3068043,\n",
    "    2019: 3072029,\n",
    "    2020: 3075646,\n",
    "    2021: 3078836,\n",
    "    2022: 3081550,\n",
    "    2023: 3083770\n",
    "}"
   ]
  },
  {
   "cell_type": "markdown",
   "id": "331c2651-ed2a-4fd4-839f-56446d846e2c",
   "metadata": {},
   "source": [
    "## Limpieza de datos"
   ]
  },
  {
   "cell_type": "markdown",
   "id": "5a0d8983-6554-4a83-a54f-ab1a2f99a0d1",
   "metadata": {},
   "source": [
    "### Limpieza de columnas id-mapa y id-sum"
   ]
  },
  {
   "cell_type": "code",
   "execution_count": 7,
   "id": "cdf9529d-a32d-4643-9cec-0fe4bf9b753c",
   "metadata": {},
   "outputs": [],
   "source": [
    "# Algunos archivos utilizan \"id-mapa\" como id y otros utilizan \"id-sum\".\n",
    "# Crear columna que almacene los ids de los delitos reportados\n",
    "if 'id' not in df_delitos.columns:\n",
    "    df_delitos['id'] = df_delitos['id-mapa'].fillna(df_delitos['id-sum'])"
   ]
  },
  {
   "cell_type": "code",
   "execution_count": 8,
   "id": "3bd52240-baec-44d0-9df2-a609bd9975e1",
   "metadata": {},
   "outputs": [
    {
     "name": "stdout",
     "output_type": "stream",
     "text": [
      "Ids faltantes: 0\n"
     ]
    }
   ],
   "source": [
    "# Verificar que no halla ids faltantes\n",
    "print(f\"Ids faltantes: {df_delitos['id'].isna().sum()}\")"
   ]
  },
  {
   "cell_type": "code",
   "execution_count": 9,
   "id": "9fe684a5-6c2d-4d92-8dc3-7aaf6874ce35",
   "metadata": {},
   "outputs": [],
   "source": [
    "# Eliminar columnas \"id-mapa\" y \"id-sum\"\n",
    "if 'id-mapa' in df_delitos.columns:\n",
    "    df_delitos.drop('id-mapa', axis=1, inplace=True)\n",
    "if 'id-sum' in df_delitos.columns:\n",
    "    df_delitos.drop('id-sum', axis=1, inplace=True)"
   ]
  },
  {
   "cell_type": "markdown",
   "id": "0b9ae8c9-0088-4331-aac7-4db64cfe1bff",
   "metadata": {},
   "source": [
    "### Limpieza de la columna \"anio\":"
   ]
  },
  {
   "cell_type": "code",
   "execution_count": 10,
   "id": "50d2252c-ed29-464f-8a4a-d8cad120d810",
   "metadata": {},
   "outputs": [
    {
     "name": "stdout",
     "output_type": "stream",
     "text": [
      "cantidad de anios invalidos: 0\n"
     ]
    }
   ],
   "source": [
    "# Verificar que los años son correctos\n",
    "anios_invalidos = df_delitos[(df_delitos[\"anio\"] < 2016) | (df_delitos[\"anio\"] > 2023)]\n",
    "print(f\"cantidad de anios invalidos: {len(anios_invalidos)}\")"
   ]
  },
  {
   "cell_type": "code",
   "execution_count": 11,
   "id": "7f397dc4-0f01-4f94-bac4-93e666cb4a60",
   "metadata": {},
   "outputs": [
    {
     "name": "stdout",
     "output_type": "stream",
     "text": [
      "tipo de dato: int64\n"
     ]
    }
   ],
   "source": [
    "# Verificar el tipo de dato de la columna\n",
    "print(f\"tipo de dato: {df_delitos[\"anio\"].dtype}\")"
   ]
  },
  {
   "cell_type": "code",
   "execution_count": 12,
   "id": "65a581c3-7772-4dbd-a868-cccac2510092",
   "metadata": {},
   "outputs": [
    {
     "name": "stdout",
     "output_type": "stream",
     "text": [
      "nuevo tipo de dato: int16\n"
     ]
    }
   ],
   "source": [
    "# Convertir en un tipo de entero más pequeño\n",
    "df_delitos[\"anio\"] = df_delitos[\"anio\"].astype(\"int16\")\n",
    "print(f\"nuevo tipo de dato: {df_delitos[\"anio\"].dtype}\")"
   ]
  },
  {
   "cell_type": "markdown",
   "id": "53cde5fa-729d-431c-a0ea-effac13bb1bc",
   "metadata": {},
   "source": [
    "### Limpieza de la columna \"mes\":"
   ]
  },
  {
   "cell_type": "code",
   "execution_count": 13,
   "id": "11087fde-453f-4038-a7fc-818c9de944c3",
   "metadata": {},
   "outputs": [
    {
     "name": "stdout",
     "output_type": "stream",
     "text": [
      "meses: ENERO FEBRERO MARZO ABRIL MAYO JUNIO JULIO AGOSTO SEPTIEMBRE OCTUBRE NOVIEMBRE DICIEMBRE \n"
     ]
    }
   ],
   "source": [
    "# Verificar que los valores son válidos\n",
    "print(\"meses:\", end=\" \")\n",
    "for mes in df_delitos[\"mes\"].unique():\n",
    "    print(mes, end=\" \")\n",
    "print()"
   ]
  },
  {
   "cell_type": "code",
   "execution_count": 14,
   "id": "884e7ba2-cc02-4da0-9f66-9a79e3933a9c",
   "metadata": {},
   "outputs": [
    {
     "name": "stdout",
     "output_type": "stream",
     "text": [
      "tipo de dato: object\n"
     ]
    }
   ],
   "source": [
    "# Verificar tipo de dato\n",
    "print(f\"tipo de dato: {df_delitos[\"mes\"].dtype}\")"
   ]
  },
  {
   "cell_type": "code",
   "execution_count": 15,
   "id": "3a9046b5-1968-42bc-b06a-56cd900dac83",
   "metadata": {},
   "outputs": [
    {
     "name": "stdout",
     "output_type": "stream",
     "text": [
      "nuevo tipo de dato: string\n"
     ]
    }
   ],
   "source": [
    "# Convertir a tipo de dato correcto\n",
    "df_delitos[\"mes\"] = df_delitos[\"mes\"].astype(\"string\")\n",
    "print(f\"nuevo tipo de dato: {df_delitos[\"mes\"].dtype}\")"
   ]
  },
  {
   "cell_type": "markdown",
   "id": "209c3ac7-ded7-40de-829f-10f59edd4e88",
   "metadata": {},
   "source": [
    "### Limpieza de la columna \"dia\":"
   ]
  },
  {
   "cell_type": "code",
   "execution_count": 59,
   "id": "359baa3e-f7ba-433f-8a6f-d85070cfff5c",
   "metadata": {},
   "outputs": [
    {
     "name": "stdout",
     "output_type": "stream",
     "text": [
      "dias de la semana: MARTES MIERCOLES DOMINGO SABADO LUNES VIERNES JUEVES \n"
     ]
    }
   ],
   "source": [
    "# Verificar que los días de la semana sean válidos\n",
    "print(\"dias de la semana:\", end=\" \")\n",
    "for dia in df_delitos[\"dia\"].unique():\n",
    "    print(dia, end=\" \")\n",
    "print()"
   ]
  },
  {
   "cell_type": "code",
   "execution_count": 60,
   "id": "bf7f96a7-8f54-46c3-af4d-24ba3aafd4b5",
   "metadata": {},
   "outputs": [],
   "source": [
    "# Se detectó un error en los datos: Los días \"SÁBADO\" y \"MIÉRCOLES\" aparecen con y sin tilde\n",
    "# Para solucionar esto, se normalizan los valores eliminado los tildes para mantener la consistencia\n",
    "df_delitos.loc[df_delitos[\"dia\"] == \"SÁBADO\", \"dia\"] = \"SABADO\"\n",
    "df_delitos.loc[df_delitos[\"dia\"] == \"MIÉRCOLES\", \"dia\"] = \"MIERCOLES\""
   ]
  },
  {
   "cell_type": "code",
   "execution_count": 61,
   "id": "d1908a4c-27bb-4ed1-abe6-ce89ddd059d7",
   "metadata": {},
   "outputs": [
    {
     "name": "stdout",
     "output_type": "stream",
     "text": [
      "dias de la semana corregidos: MARTES MIERCOLES DOMINGO SABADO LUNES VIERNES JUEVES \n"
     ]
    }
   ],
   "source": [
    "# Verificar los cambios\n",
    "print(\"dias de la semana corregidos:\", end=\" \")\n",
    "for dia in df_delitos[\"dia\"].unique():\n",
    "    print(dia, end=\" \")\n",
    "print()"
   ]
  },
  {
   "cell_type": "code",
   "execution_count": 62,
   "id": "837e3003-67a0-4ebf-bf7b-c8b699428e53",
   "metadata": {},
   "outputs": [],
   "source": [
    "# Asignar a los días de la semana un orden, ya que son valores categóricos ordinales\n",
    "# Lista de días ordenados\n",
    "dias_ordenados = ['LUNES', 'MARTES', 'MIERCOLES', 'JUEVES', 'VIERNES', 'SABADO', 'DOMINGO']\n",
    "\n",
    "df_delitos['dia'] = pd.Categorical(df_delitos['dia'], \n",
    "                                        categories=dias_ordenados, \n",
    "                                        ordered=True)  "
   ]
  },
  {
   "cell_type": "code",
   "execution_count": 63,
   "id": "359f4b18-f723-48e0-90c9-aa21f51f101f",
   "metadata": {},
   "outputs": [
    {
     "name": "stdout",
     "output_type": "stream",
     "text": [
      "tipo de dato: category\n"
     ]
    }
   ],
   "source": [
    "# Verificar el tipo de dato\n",
    "print(f\"tipo de dato: {df_delitos[\"dia\"].dtype}\")"
   ]
  },
  {
   "cell_type": "markdown",
   "id": "31c8901d-6848-48e9-8d32-a9cbdfe1c8fa",
   "metadata": {},
   "source": [
    "### Limpieza de la columna \"fecha\":"
   ]
  },
  {
   "cell_type": "code",
   "execution_count": 23,
   "id": "c298b22a-5d69-494d-9770-313a94b6913b",
   "metadata": {
    "scrolled": true
   },
   "outputs": [
    {
     "name": "stdout",
     "output_type": "stream",
     "text": [
      "tipo de dato: object\n"
     ]
    }
   ],
   "source": [
    "# Verificar el tipo de dato\n",
    "print(f\"tipo de dato: {df_delitos[\"fecha\"].dtype}\")"
   ]
  },
  {
   "cell_type": "code",
   "execution_count": 24,
   "id": "8830bdb1-b8f0-4c81-98bf-2eeee1a410fd",
   "metadata": {},
   "outputs": [
    {
     "name": "stdout",
     "output_type": "stream",
     "text": [
      "nuevo tipo de dato: datetime64[ns]\n"
     ]
    }
   ],
   "source": [
    "# Convertir la columna fecha al tipo de dato correcto para facilitar el análisis\n",
    "df_delitos[\"fecha\"] = pd.to_datetime(df_delitos[\"fecha\"], format=\"mixed\", errors=\"coerce\")\n",
    "# Verificar si hubo errores en la conversión\n",
    "errores_fecha = df_delitos[\"fecha\"].isna().sum()\n",
    "if errores_fecha > 0:\n",
    "    print(f\"Advertencia: {errores_fecha} fechas no se pudieron convertir y serán reemplazadas por NaT.\")\n",
    "# Convertir a tipo de dato correcto \n",
    "print(f\"nuevo tipo de dato: {df_delitos[\"fecha\"].dtype}\")"
   ]
  },
  {
   "cell_type": "code",
   "execution_count": 25,
   "id": "c8964b2d-e0b0-417c-87e3-20ad8617e545",
   "metadata": {},
   "outputs": [
    {
     "name": "stdout",
     "output_type": "stream",
     "text": [
      "cantidad de fechas fuera de rango: 0\n"
     ]
    }
   ],
   "source": [
    "# Verificar que las fechas esten en el rango correcto\n",
    "fechas_invalidas = df_delitos[\n",
    "    ~(df_delitos['fecha'].dt.year.between(2016, 2023))\n",
    "]\n",
    "print(f\"cantidad de fechas fuera de rango: {len(fechas_invalidas)}\")"
   ]
  },
  {
   "cell_type": "markdown",
   "id": "b8d61943-7469-40c5-8877-3f9521779feb",
   "metadata": {},
   "source": [
    "### Limpieza de la columna \"franja\""
   ]
  },
  {
   "cell_type": "code",
   "execution_count": 26,
   "id": "b20f23ac-9235-49c6-8359-64799cedb884",
   "metadata": {},
   "outputs": [
    {
     "name": "stdout",
     "output_type": "stream",
     "text": [
      "cantidad de franjas invalidas: 0\n"
     ]
    }
   ],
   "source": [
    "# Verificar que los valores son válidos (0-23)\n",
    "franjas_invalidas = df_delitos[(df_delitos[\"franja\"] < 0) | (df_delitos[\"franja\"] > 23)]\n",
    "print(f\"cantidad de franjas invalidas: {len(franjas_invalidas)}\")"
   ]
  },
  {
   "cell_type": "code",
   "execution_count": 27,
   "id": "39ab85a3-2515-4ab7-98ec-a6e101bdf1e4",
   "metadata": {},
   "outputs": [
    {
     "name": "stdout",
     "output_type": "stream",
     "text": [
      "2328\n"
     ]
    }
   ],
   "source": [
    "# Verificar si hay valores faltantes\n",
    "val_faltantes = df_delitos[\"franja\"].isnull().sum()\n",
    "print(val_faltantes)"
   ]
  },
  {
   "cell_type": "code",
   "execution_count": 28,
   "id": "270b7213-6515-4c87-94c4-4b1e9f917c37",
   "metadata": {},
   "outputs": [
    {
     "name": "stdout",
     "output_type": "stream",
     "text": [
      "tipo de dato: float64\n"
     ]
    }
   ],
   "source": [
    "# Verificar tipo de dato\n",
    "print(f\"tipo de dato: {df_delitos[\"franja\"].dtype}\")"
   ]
  },
  {
   "cell_type": "code",
   "execution_count": 29,
   "id": "930b4992-d03a-412a-b99c-866d4620b6c5",
   "metadata": {},
   "outputs": [
    {
     "name": "stdout",
     "output_type": "stream",
     "text": [
      "nuevo tipo de dato: Int8\n"
     ]
    }
   ],
   "source": [
    "# Convertir al tipo de dato correcto\n",
    "df_delitos[\"franja\"] = df_delitos[\"franja\"].astype(\"Int8\")\n",
    "print(f\"nuevo tipo de dato: {df_delitos[\"franja\"].dtype}\")"
   ]
  },
  {
   "cell_type": "markdown",
   "id": "cc3f9ef3-71dc-4d01-9aa5-f8abab51c0c1",
   "metadata": {},
   "source": [
    "### Limpieza de la columna \"tipo\":"
   ]
  },
  {
   "cell_type": "code",
   "execution_count": 30,
   "id": "cf851f53-2623-4916-9bf7-96c9032791bf",
   "metadata": {},
   "outputs": [
    {
     "name": "stdout",
     "output_type": "stream",
     "text": [
      "tipos de delitos: ['Robo' 'Hurto' 'Vialidad' 'Homicidios' 'Amenazas' 'Lesiones']\n"
     ]
    }
   ],
   "source": [
    "# Verificar que los valores sean válidos\n",
    "print(f\"tipos de delitos: {df_delitos[\"tipo\"].unique()}\")"
   ]
  },
  {
   "cell_type": "code",
   "execution_count": 31,
   "id": "cb2cc125-a96b-4932-868b-a92da4702784",
   "metadata": {},
   "outputs": [
    {
     "name": "stdout",
     "output_type": "stream",
     "text": [
      "tipo de dato: object\n"
     ]
    }
   ],
   "source": [
    "# Verificar tipo de dato\n",
    "print(f\"tipo de dato: {df_delitos[\"tipo\"].dtype}\")"
   ]
  },
  {
   "cell_type": "code",
   "execution_count": 32,
   "id": "403cb017-1a69-41e6-baec-1152c9670183",
   "metadata": {},
   "outputs": [
    {
     "name": "stdout",
     "output_type": "stream",
     "text": [
      "nuevo tipo de dato: string\n"
     ]
    }
   ],
   "source": [
    "# Convertir al tipo de dato correcto\n",
    "df_delitos[\"tipo\"] = df_delitos[\"tipo\"].astype(\"string\")\n",
    "print(f\"nuevo tipo de dato: {df_delitos[\"tipo\"].dtype}\")"
   ]
  },
  {
   "cell_type": "markdown",
   "id": "2b860666-4c8c-4af7-85f7-3cbbbc65aabf",
   "metadata": {},
   "source": [
    "### Limpieza de la columna \"subtipo\":"
   ]
  },
  {
   "cell_type": "code",
   "execution_count": 33,
   "id": "7accb305-c489-45a5-9c57-bf6a53c3b214",
   "metadata": {},
   "outputs": [
    {
     "name": "stdout",
     "output_type": "stream",
     "text": [
      "tipos de delitos: ['Robo total' 'Robo automotor' 'Hurto automotor' 'Hurto total'\n",
      " 'Lesiones por siniestros viales' 'Homicidios dolosos' 'Femicidios'\n",
      " 'Amenazas' 'Lesiones Dolosas' 'Muertes por siniestros viales'\n",
      " 'Homicidio Doloso']\n"
     ]
    }
   ],
   "source": [
    "# Verificar que los valores sean válidos\n",
    "print(f\"tipos de delitos: {df_delitos[\"subtipo\"].unique()}\")"
   ]
  },
  {
   "cell_type": "code",
   "execution_count": 34,
   "id": "6d5cc8c9-ef65-407a-9e38-402ff3d8d336",
   "metadata": {},
   "outputs": [],
   "source": [
    "# Hay dos valores, \"Homicidios dolosos\" y \"Homicidio Doloso\", que deberían ser uno solo\n",
    "\n",
    "# Unificar las dos categorias\n",
    "df_delitos[\"subtipo\"] = df_delitos[\"subtipo\"].replace(\"Homicidio Doloso\", \"Homicidios dolosos\")"
   ]
  },
  {
   "cell_type": "code",
   "execution_count": 35,
   "id": "d87c2f5f-b025-4a59-b35e-cf5383dfdd80",
   "metadata": {},
   "outputs": [
    {
     "name": "stdout",
     "output_type": "stream",
     "text": [
      "tipos de delitos: ['Robo total' 'Robo automotor' 'Hurto automotor' 'Hurto total'\n",
      " 'Lesiones por siniestros viales' 'Homicidios dolosos' 'Femicidios'\n",
      " 'Amenazas' 'Lesiones Dolosas' 'Muertes por siniestros viales']\n"
     ]
    }
   ],
   "source": [
    "# Verificar cambios\n",
    "print(f\"tipos de delitos: {df_delitos[\"subtipo\"].unique()}\")"
   ]
  },
  {
   "cell_type": "code",
   "execution_count": 36,
   "id": "62197926-ee32-42c5-b735-6db886be9e0e",
   "metadata": {},
   "outputs": [
    {
     "name": "stdout",
     "output_type": "stream",
     "text": [
      "tipo de dato: object\n"
     ]
    }
   ],
   "source": [
    "# Verificar tipo de dato\n",
    "print(f\"tipo de dato: {df_delitos[\"subtipo\"].dtype}\")"
   ]
  },
  {
   "cell_type": "code",
   "execution_count": 37,
   "id": "0b6a5108-b036-4bae-93f6-707f25c97cd0",
   "metadata": {},
   "outputs": [
    {
     "name": "stdout",
     "output_type": "stream",
     "text": [
      "nuevo tipo de dato: string\n"
     ]
    }
   ],
   "source": [
    "# Convertir al tipo de dato correcto\n",
    "df_delitos[\"subtipo\"] = df_delitos[\"subtipo\"].astype(\"string\")\n",
    "print(f\"nuevo tipo de dato: {df_delitos[\"subtipo\"].dtype}\")"
   ]
  },
  {
   "cell_type": "markdown",
   "id": "41614f57-7a07-42dd-af45-2eb922a83dee",
   "metadata": {},
   "source": [
    "### Limpieza de la columna \"uso_arma\":"
   ]
  },
  {
   "cell_type": "code",
   "execution_count": 38,
   "id": "4a9d643e-d9c5-4e41-9e85-431f834a76cc",
   "metadata": {},
   "outputs": [
    {
     "name": "stdout",
     "output_type": "stream",
     "text": [
      "cantidad de faltantes en 'uso_arma': 0\n"
     ]
    }
   ],
   "source": [
    "# Verificar si hay valores faltantes\n",
    "print(f\"cantidad de faltantes en 'uso_arma': {df_delitos[\"uso_arma\"].isna().sum()}\")"
   ]
  },
  {
   "cell_type": "code",
   "execution_count": 39,
   "id": "15398c59-8220-4581-938d-0426d7959c80",
   "metadata": {},
   "outputs": [],
   "source": [
    "# Convertir columnas 'uso_arma' y 'uso_moto' de SI/NO a valores booleanos\n",
    "# para facilitar el análisis\n",
    "bool_conversion = {\"SI\": True, \"NO\": False}\n",
    "df_delitos[\"uso_arma\"] = df_delitos[\"uso_arma\"].apply(lambda x: bool_conversion.get(x, x))"
   ]
  },
  {
   "cell_type": "code",
   "execution_count": 40,
   "id": "084006a7-8ac4-40ac-bf0b-a00aafbd4844",
   "metadata": {},
   "outputs": [
    {
     "name": "stdout",
     "output_type": "stream",
     "text": [
      "valores en 'uso_arma': [False  True]\n"
     ]
    }
   ],
   "source": [
    "# Verifico los cambios\n",
    "print(f\"valores en 'uso_arma': {df_delitos[\"uso_arma\"].unique()}\")"
   ]
  },
  {
   "cell_type": "code",
   "execution_count": 41,
   "id": "a7b324f7-d221-4638-b838-dcdc96489977",
   "metadata": {},
   "outputs": [
    {
     "name": "stdout",
     "output_type": "stream",
     "text": [
      "tipo de dato: bool\n"
     ]
    }
   ],
   "source": [
    "# Verifico el tipo de dato\n",
    "print(f\"tipo de dato: {df_delitos[\"uso_arma\"].dtype}\")"
   ]
  },
  {
   "cell_type": "markdown",
   "id": "cf1fa283-f44c-4b58-8be9-56e6a1c1075e",
   "metadata": {},
   "source": [
    "### Limpieza de la columna \"uso_moto\":"
   ]
  },
  {
   "cell_type": "code",
   "execution_count": 42,
   "id": "c8730472-36df-435b-a511-4b6a5d376dbe",
   "metadata": {},
   "outputs": [
    {
     "name": "stdout",
     "output_type": "stream",
     "text": [
      "cantidad de faltantes en 'uso_moto': 0\n"
     ]
    }
   ],
   "source": [
    "# Verificar si hay valores faltantes\n",
    "print(f\"cantidad de faltantes en 'uso_moto': {df_delitos[\"uso_moto\"].isna().sum()}\")"
   ]
  },
  {
   "cell_type": "code",
   "execution_count": 43,
   "id": "800ede0b-8313-4231-9b95-d97e4cf14a47",
   "metadata": {},
   "outputs": [],
   "source": [
    "# Convertir columnas 'uso_arma' y 'uso_moto' de SI/NO a valores booleanos\n",
    "# para facilitar el análisis\n",
    "bool_conversion = {\"SI\": True, \"NO\": False}\n",
    "df_delitos[\"uso_moto\"] = df_delitos[\"uso_moto\"].apply(lambda x: bool_conversion.get(x, x))"
   ]
  },
  {
   "cell_type": "code",
   "execution_count": 44,
   "id": "efb6aedc-6bcb-4d5f-b15f-81a3528e9adb",
   "metadata": {},
   "outputs": [
    {
     "name": "stdout",
     "output_type": "stream",
     "text": [
      "valores en 'uso_arma': [False  True]\n"
     ]
    }
   ],
   "source": [
    "# Verifico los cambios\n",
    "print(f\"valores en 'uso_arma': {df_delitos[\"uso_moto\"].unique()}\")"
   ]
  },
  {
   "cell_type": "code",
   "execution_count": 45,
   "id": "c88bae1f-bf37-42db-9aab-0de556f81138",
   "metadata": {},
   "outputs": [
    {
     "name": "stdout",
     "output_type": "stream",
     "text": [
      "tipo de dato: bool\n"
     ]
    }
   ],
   "source": [
    "# Verifico el tipo de dato\n",
    "print(f\"tipo de dato: {df_delitos[\"uso_moto\"].dtype}\")"
   ]
  },
  {
   "cell_type": "markdown",
   "id": "8fcfeeea-d1fe-4dba-959f-66f16ce62975",
   "metadata": {},
   "source": [
    "### Limpieza de la columna barrio"
   ]
  },
  {
   "cell_type": "code",
   "execution_count": 46,
   "id": "cd2bf1d3-1969-4dc0-a858-a64e9f94f739",
   "metadata": {
    "scrolled": true
   },
   "outputs": [
    {
     "name": "stdout",
     "output_type": "stream",
     "text": [
      "Tipo de dato original 'barrio': object\n",
      "Nuevo tipo de dato 'barrio': string\n",
      "Valores faltantes en 'barrio': 25583\n"
     ]
    }
   ],
   "source": [
    "# Asegurar que 'barrio' sea de tipo string\n",
    "if not df_delitos.empty and 'barrio' in df_delitos.columns:\n",
    "    print(f\"Tipo de dato original 'barrio': {df_delitos['barrio'].dtype}\")\n",
    "    if df_delitos['barrio'].dtype != 'string':\n",
    "        df_delitos[\"barrio\"] = df_delitos[\"barrio\"].astype(\"string\")\n",
    "    print(f\"Nuevo tipo de dato 'barrio': {df_delitos['barrio'].dtype}\")\n",
    "    print(f\"Valores faltantes en 'barrio': {df_delitos['barrio'].isna().sum()}\")"
   ]
  },
  {
   "cell_type": "markdown",
   "id": "70695636-ae0d-4b94-95b8-73ea56dab2b0",
   "metadata": {},
   "source": [
    "### Limpieza de la columna \"comuna\":"
   ]
  },
  {
   "cell_type": "code",
   "execution_count": 47,
   "id": "9fcbf591-ba84-4419-b8f5-ecb3cc499277",
   "metadata": {},
   "outputs": [
    {
     "name": "stdout",
     "output_type": "stream",
     "text": [
      "Valores originales en 'comuna': [10.0 9.0 11.0 12.0 15.0 7.0 8.0 13.0 6.0 14.0 5.0 4.0 nan 2.0 3.0 1.0\n",
      " '13' '8' '12' '7' '3' '2' '10' '4' '15' '9' '14' '1' '11' '5' '6' 'CC-08'\n",
      " 'CC-09' 'CC-01 NORTE' 'CC-04' 'CC-07' 'CC-15' 'CC-02' 'CC-12' 'CC-10'\n",
      " 'CC-06' 'CC-13' 'CC-05' 'CC-01 SUR' 'CC-03' 'CC-14' 'Sin geo' 'CC-11']\n",
      "Valores estandarizados (antes de tipo Int8): [10.  9. 11. 12. 15.  7.  8. 13.  6. 14.  5.  4. nan  2.  3.  1.]\n",
      "Tipo de dato original 'comuna': float64\n",
      "Nuevo tipo de dato 'comuna': Int8\n",
      "Valores faltantes en 'comuna': 25917\n"
     ]
    }
   ],
   "source": [
    "# Estandarizar valores de 'comuna'\n",
    "if not df_delitos.empty and 'comuna' in df_delitos.columns:\n",
    "    print(f\"Valores originales en 'comuna': {df_delitos['comuna'].unique()}\")\n",
    "\n",
    "    # Diccionario con correcciones básicas\n",
    "    dict_correciones = {\n",
    "        \"CC-01 NORTE\": 1,\n",
    "        \"CC-01 SUR\": 1,\n",
    "        \"CC-02\": 2,\n",
    "        \"CC-03\": 3,\n",
    "        \"CC-04\": 4,\n",
    "        \"CC-05\": 5,\n",
    "        \"CC-06\": 6,\n",
    "        \"CC-07\": 7,\n",
    "        \"CC-08\": 8,\n",
    "        \"CC-09\": 9,\n",
    "        \"CC-10\": 10,\n",
    "        \"CC-11\": 11,\n",
    "        \"CC-12\": 12,\n",
    "        \"CC-13\": 13,\n",
    "        \"CC-14\": 14,\n",
    "        \"CC-15\": 15,\n",
    "        \"Sin geo\": np.nan # Marcar 'Sin geo' como NaN\n",
    "    }\n",
    "\n",
    "    # Aplicar correcciones y convertir a numérico (errores a NaN)\n",
    "    df_delitos[\"comuna\"] = df_delitos[\"comuna\"].replace(dict_correciones)\n",
    "    df_delitos[\"comuna\"] = pd.to_numeric(df_delitos[\"comuna\"], errors='coerce')\n",
    "\n",
    "    print(f\"Valores estandarizados (antes de tipo Int8): {df_delitos['comuna'].unique()}\")\n",
    "\n",
    "    # Convertir a tipo Int8 (entero nullable)\n",
    "    print(f\"Tipo de dato original 'comuna': {df_delitos['comuna'].dtype}\")\n",
    "    df_delitos[\"comuna\"] = df_delitos[\"comuna\"].astype(\"Int8\")\n",
    "    print(f\"Nuevo tipo de dato 'comuna': {df_delitos['comuna'].dtype}\")\n",
    "    print(f\"Valores faltantes en 'comuna': {df_delitos['comuna'].isna().sum()}\")"
   ]
  },
  {
   "cell_type": "markdown",
   "id": "b207ec7e-e06f-4cac-b1fd-11c4a28be229",
   "metadata": {},
   "source": [
    "### Limpieza de las columnas \"latitud\" y \"longitud\""
   ]
  },
  {
   "cell_type": "code",
   "execution_count": 48,
   "id": "22f8857c-a09b-4817-9646-960e11cc69a1",
   "metadata": {},
   "outputs": [
    {
     "name": "stdout",
     "output_type": "stream",
     "text": [
      "Tipo de dato original 'latitud': object\n",
      "Nuevo tipo de dato 'latitud': float64\n",
      "Valores faltantes en 'latitud': 160393\n",
      "Tipo de dato original 'longitud': object\n",
      "Nuevo tipo de dato 'longitud': float64\n",
      "Valores faltantes en 'longitud': 160383\n"
     ]
    }
   ],
   "source": [
    "# Asegurar que latitud y longitud sean de tipo float\n",
    "if not df_delitos.empty:\n",
    "    for col in ['latitud', 'longitud']:\n",
    "        if col in df_delitos.columns:\n",
    "            print(f\"Tipo de dato original '{col}': {df_delitos[col].dtype}\")\n",
    "            # Convertir a numérico, tratando errores\n",
    "            df_delitos[col] = pd.to_numeric(df_delitos[col], errors='coerce')\n",
    "            # No es necesario convertir a float explícitamente si to_numeric ya lo hizo\n",
    "            # df_delitos[col] = df_delitos[col].astype(float)\n",
    "            print(f\"Nuevo tipo de dato '{col}': {df_delitos[col].dtype}\")\n",
    "            print(f\"Valores faltantes en '{col}': {df_delitos[col].isna().sum()}\")"
   ]
  },
  {
   "cell_type": "markdown",
   "id": "ebe89f40-97dc-4060-8e16-7f927f8155f8",
   "metadata": {},
   "source": [
    "### Limpieza de la columna \"cantidad\""
   ]
  },
  {
   "cell_type": "code",
   "execution_count": 49,
   "id": "37a95cf2-8638-4856-b1e7-10cd2ccd64e8",
   "metadata": {},
   "outputs": [
    {
     "name": "stdout",
     "output_type": "stream",
     "text": [
      "Tipo de dato original 'cantidad': int64\n",
      "Valores faltantes en 'cantidad' (antes de Int): 0\n",
      "Nuevo tipo de dato 'cantidad': Int16\n",
      "Valores faltantes en 'cantidad' (después de Int): 0\n"
     ]
    }
   ],
   "source": [
    "# Asegurar que 'cantidad' sea de tipo entero\n",
    "if not df_delitos.empty and 'cantidad' in df_delitos.columns:\n",
    "    print(f\"Tipo de dato original 'cantidad': {df_delitos['cantidad'].dtype}\")\n",
    "    # Convertir a numérico primero, tratando errores\n",
    "    df_delitos[\"cantidad\"] = pd.to_numeric(df_delitos[\"cantidad\"], errors='coerce')\n",
    "\n",
    "    # Verificar valores faltantes (incluye los que no se pudieron convertir)\n",
    "    print(f\"Valores faltantes en 'cantidad' (antes de Int): {df_delitos['cantidad'].isna().sum()}\")\n",
    "\n",
    "    # Convertir a tipo Int16 (entero nullable)\n",
    "    df_delitos[\"cantidad\"] = df_delitos[\"cantidad\"].astype(\"Int16\")\n",
    "    print(f\"Nuevo tipo de dato 'cantidad': {df_delitos['cantidad'].dtype}\")\n",
    "    print(f\"Valores faltantes en 'cantidad' (después de Int): {df_delitos['cantidad'].isna().sum()}\")"
   ]
  },
  {
   "cell_type": "markdown",
   "id": "bb2da79a-f59f-46c4-926c-2ed52b17b3af",
   "metadata": {},
   "source": [
    "### Limpieza de duplicados"
   ]
  },
  {
   "cell_type": "code",
   "execution_count": 50,
   "id": "08d4c051-2f3a-410e-9367-a3ff779d7099",
   "metadata": {},
   "outputs": [
    {
     "name": "stdout",
     "output_type": "stream",
     "text": [
      "Número de filas duplicadas: 0\n"
     ]
    }
   ],
   "source": [
    "# Hallar si hay registros duplicados completos\n",
    "if not df_delitos.empty:\n",
    "    duplicados = df_delitos.duplicated().sum()\n",
    "    print(f\"Número de filas duplicadas: {duplicados}\")\n",
    "    # Opcional: eliminar duplicados si se desea\n",
    "    # df_delitos = df_delitos.drop_duplicates()"
   ]
  },
  {
   "cell_type": "markdown",
   "id": "f376c597-691a-4dd2-aebc-9d93e690c768",
   "metadata": {},
   "source": [
    "### Tipos de dato final "
   ]
  },
  {
   "cell_type": "code",
   "execution_count": 51,
   "id": "75b4cec1-f05c-47c3-9f1c-1c44ce36617e",
   "metadata": {},
   "outputs": [
    {
     "name": "stdout",
     "output_type": "stream",
     "text": [
      "\n",
      "Tipos de datos finales de las columnas:\n"
     ]
    },
    {
     "data": {
      "text/plain": [
       "anio                 int16\n",
       "mes         string[python]\n",
       "dia         string[python]\n",
       "fecha       datetime64[ns]\n",
       "franja                Int8\n",
       "tipo        string[python]\n",
       "subtipo     string[python]\n",
       "uso_arma              bool\n",
       "uso_moto              bool\n",
       "barrio      string[python]\n",
       "comuna                Int8\n",
       "latitud            float64\n",
       "longitud           float64\n",
       "cantidad             Int16\n",
       "id                 float64\n",
       "dtype: object"
      ]
     },
     "metadata": {},
     "output_type": "display_data"
    }
   ],
   "source": [
    "# Ver el tipo de dato final de todas las columnas\n",
    "if not df_delitos.empty:\n",
    "    print(\"\\nTipos de datos finales de las columnas:\")\n",
    "    display(df_delitos.dtypes)"
   ]
  },
  {
   "cell_type": "markdown",
   "id": "0cd53c03-7ee0-4a3d-a245-b70a40302462",
   "metadata": {},
   "source": [
    "### Mostrar información del DataFrame final"
   ]
  },
  {
   "cell_type": "code",
   "execution_count": 52,
   "id": "c807a41d-f00f-47d6-b70b-64b2dc2e4653",
   "metadata": {},
   "outputs": [
    {
     "name": "stdout",
     "output_type": "stream",
     "text": [
      "\n",
      "Información general del DataFrame:\n",
      "<class 'pandas.core.frame.DataFrame'>\n",
      "RangeIndex: 1097145 entries, 0 to 1097144\n",
      "Data columns (total 15 columns):\n",
      " #   Column    Non-Null Count    Dtype         \n",
      "---  ------    --------------    -----         \n",
      " 0   anio      1097145 non-null  int16         \n",
      " 1   mes       1097145 non-null  string        \n",
      " 2   dia       1097145 non-null  string        \n",
      " 3   fecha     1097145 non-null  datetime64[ns]\n",
      " 4   franja    1094817 non-null  Int8          \n",
      " 5   tipo      1097145 non-null  string        \n",
      " 6   subtipo   1097145 non-null  string        \n",
      " 7   uso_arma  1097145 non-null  bool          \n",
      " 8   uso_moto  1097145 non-null  bool          \n",
      " 9   barrio    1071562 non-null  string        \n",
      " 10  comuna    1071228 non-null  Int8          \n",
      " 11  latitud   936752 non-null   float64       \n",
      " 12  longitud  936762 non-null   float64       \n",
      " 13  cantidad  1097145 non-null  Int16         \n",
      " 14  id        1097145 non-null  float64       \n",
      "dtypes: Int16(1), Int8(2), bool(2), datetime64[ns](1), float64(3), int16(1), string(5)\n",
      "memory usage: 86.8 MB\n"
     ]
    }
   ],
   "source": [
    "# Mostrar información general del DataFrame limpio\n",
    "if not df_delitos.empty:\n",
    "    print(\"\\nInformación general del DataFrame:\")\n",
    "    df_delitos.info()"
   ]
  },
  {
   "cell_type": "markdown",
   "id": "f792270d-6ded-4d80-9321-ea946d065000",
   "metadata": {},
   "source": [
    "## Filtrado de datos"
   ]
  },
  {
   "cell_type": "markdown",
   "id": "258e7485-a2f6-4195-b6b3-0e42d473e200",
   "metadata": {},
   "source": [
    "### Filtrado por tipo de delito\n",
    "\n",
    "Para enfocar el análisis en los horarios de robos y hurtos, se filtrará el DataFrame para conservar únicamente los registros correspondientes a los tipos de delito \"Robo\" y \"Hurto\"."
   ]
  },
  {
   "cell_type": "code",
   "execution_count": 53,
   "id": "0f19e433-1410-4b80-9609-0486a0989365",
   "metadata": {
    "scrolled": true
   },
   "outputs": [
    {
     "name": "stdout",
     "output_type": "stream",
     "text": [
      "Registros antes del filtrado: 1097145\n",
      "Registros después del filtrado (Robo/Hurto): 833544\n",
      "\n",
      "Valores únicos en la columna 'tipo' después del filtrado:\n",
      "<StringArray>\n",
      "['Robo', 'Hurto']\n",
      "Length: 2, dtype: string\n"
     ]
    }
   ],
   "source": [
    "# Filtrar el DataFrame para incluir solo \"robo\" y \"hurto\"\n",
    "if not df_delitos.empty:\n",
    "    tipos_deseados = ['Robo', 'Hurto']\n",
    "    df_robos_hurtos = df_delitos[df_delitos['tipo'].isin(tipos_deseados)].copy() # Usar .copy() para evitar SettingWithCopyWarning\n",
    "\n",
    "    print(f\"Registros antes del filtrado: {len(df_delitos)}\")\n",
    "    print(f\"Registros después del filtrado (Robo/Hurto): {len(df_robos_hurtos )}\")\n",
    "\n",
    "    # Mostrar los valores únicos en la columna 'tipo' del DataFrame filtrado\n",
    "    if not df_robos_hurtos.empty:\n",
    "        print(\"\\nValores únicos en la columna 'tipo' después del filtrado:\")\n",
    "        print(df_robos_hurtos['tipo'].unique())\n",
    "    else:\n",
    "        print(\"El DataFrame filtrado está vacío.\")\n",
    "\n",
    "else:\n",
    "    print(\"El DataFrame original está vacío, no se puede filtrar.\")\n",
    "    df_robos_hurtos = pd.DataFrame() # Crear DataFrame vacío si el original lo era"
   ]
  },
  {
   "cell_type": "markdown",
   "id": "668a7f1c-71ee-4dc1-9c18-12e34c34b2e7",
   "metadata": {},
   "source": [
    "## Análisis Exploratorio General"
   ]
  },
  {
   "cell_type": "markdown",
   "id": "e756e5da-ae7c-4e90-a22a-ddce8bd09072",
   "metadata": {},
   "source": [
    "Antes de profundizar, es útil realizar un análisis exploratorio general para entender los datos"
   ]
  },
  {
   "cell_type": "markdown",
   "id": "df6b85c1-132f-46bd-986f-ef3a9acbcab0",
   "metadata": {},
   "source": [
    "### Frecuencia de tipos de delitos\n",
    "\n",
    "Esto nos ayuda a ver cuántos robos y hurtos hay en comparación con otros tipos"
   ]
  },
  {
   "cell_type": "code",
   "execution_count": 54,
   "id": "201e088f-21a0-4960-a184-b4deeb6ec775",
   "metadata": {},
   "outputs": [
    {
     "name": "stdout",
     "output_type": "stream",
     "text": [
      "tipo\n",
      "Robo          474356\n",
      "Hurto         359188\n",
      "Lesiones      107683\n",
      "Amenazas       81051\n",
      "Vialidad       73926\n",
      "Homicidios       941\n",
      "Name: count, dtype: Int64\n"
     ]
    }
   ],
   "source": [
    "print(df_delitos['tipo'].value_counts())"
   ]
  },
  {
   "cell_type": "code",
   "execution_count": 56,
   "id": "d7fefee1-10ba-40a3-84b5-5f5878836904",
   "metadata": {},
   "outputs": [
    {
     "name": "stdout",
     "output_type": "stream",
     "text": [
      "Robo: 43.24%\n",
      "Hurto: 32.74%\n",
      "Lesiones: 9.81%\n",
      "Amenazas: 7.39%\n",
      "Vialidad: 6.74%\n",
      "Homicidios: 0.09%\n"
     ]
    }
   ],
   "source": [
    "# Calcular proporciones\n",
    "frecuencia_tipos = df_delitos['tipo'].value_counts()\n",
    "\n",
    "total_delitos = sum(frecuencia_tipos.values)\n",
    "proporciones = {k: (v / total_delitos) * 100 for k, v in frecuencia_tipos.items()}\n",
    "\n",
    "# Mostrar proporciones\n",
    "for tipo, porcentaje in proporciones.items():\n",
    "    print(f\"{tipo}: {porcentaje:.2f}%\")"
   ]
  },
  {
   "cell_type": "code",
   "execution_count": 57,
   "id": "30ca1fbd-d4e7-4870-9b48-5e4824596e1d",
   "metadata": {},
   "outputs": [
    {
     "data": {
      "image/png": "[encoded data removed]",
      "text/plain": [
       "<Figure size 800x600 with 1 Axes>"
      ]
     },
     "metadata": {},
     "output_type": "display_data"
    }
   ],
   "source": [
    "# Gráfico de barras de frecuencia de tipos de delitos\n",
    "frecuencia_tipos = df_delitos['tipo'].value_counts()\n",
    "plt.figure(figsize=(8, 6))\n",
    "sns.barplot(x=frecuencia_tipos.index, \n",
    "            y=frecuencia_tipos.values, \n",
    "            hue=frecuencia_tipos.index, \n",
    "            palette=\"viridis\",\n",
    "            legend=False )\n",
    "plt.title(\"Frecuencia General de Tipos de Delitos\", fontsize=16)\n",
    "plt.xlabel(\"Tipo de Delito\", fontsize=12)\n",
    "plt.ylabel(\"Cantidad de Delitos\", fontsize=12)\n",
    "plt.xticks(rotation=45)\n",
    "plt.tight_layout()\n",
    "plt.show()"
   ]
  },
  {
   "cell_type": "markdown",
   "id": "9d1a1285-2f6c-4250-b897-7061033b6d2a",
   "metadata": {},
   "source": [
    "#### Observaciones:\n",
    "Los **robos y hurtos** representan el **75.98% de los delitos** denunciados en total."
   ]
  },
  {
   "cell_type": "markdown",
   "id": "5ddb1f37-95f3-413e-8099-55d24cacec85",
   "metadata": {},
   "source": [
    "### Distribución por franjas horarias\n",
    "\n",
    "Verifico cuántos delitos hay en cada franja horaria."
   ]
  },
  {
   "cell_type": "code",
   "execution_count": 52,
   "id": "f148fa37-f5d7-4bb2-a215-32f4ba8ece1d",
   "metadata": {},
   "outputs": [
    {
     "name": "stdout",
     "output_type": "stream",
     "text": [
      "franja\n",
      "0     39381\n",
      "1     17486\n",
      "2     14099\n",
      "3     13012\n",
      "4     13101\n",
      "5     17048\n",
      "6     22513\n",
      "7     30685\n",
      "8     36493\n",
      "9     34556\n",
      "10    36878\n",
      "11    35247\n",
      "12    42691\n",
      "13    38755\n",
      "14    40820\n",
      "15    40230\n",
      "16    41246\n",
      "17    44089\n",
      "18    49526\n",
      "19    50810\n",
      "20    52098\n",
      "21    46033\n",
      "22    41012\n",
      "23    33661\n",
      "Name: count, dtype: Int64\n"
     ]
    }
   ],
   "source": [
    "print(df_robos_hurtos['franja'].value_counts().sort_index())"
   ]
  },
  {
   "cell_type": "code",
   "execution_count": 63,
   "id": "8365c914-768b-4e75-a3ae-0e891530619e",
   "metadata": {
    "scrolled": true
   },
   "outputs": [
    {
     "data": {
      "image/png": "[encoded data removed]",
      "text/plain": [
       "<Figure size 1200x600 with 1 Axes>"
      ]
     },
     "metadata": {},
     "output_type": "display_data"
    }
   ],
   "source": [
    "# Gráfico de barras de frecuencia por franjas horarias\n",
    "frecuencia_horaria = df_robos_hurtos['franja'].value_counts().sort_index()\n",
    "plt.figure(figsize=(12, 6))\n",
    "sns.barplot(x=frecuencia_horaria.index, \n",
    "            y=frecuencia_horaria.values, \n",
    "            palette=\"viridis\", \n",
    "            hue=frecuencia_horaria.index, \n",
    "            legend=False)\n",
    "plt.title(\"Distribución de Delitos por Franja Horaria\", fontsize=16)\n",
    "plt.xlabel(\"Franja Horaria (Horas)\", fontsize=12)\n",
    "plt.ylabel(\"Cantidad de Delitos\", fontsize=12)\n",
    "plt.xticks(rotation=45)\n",
    "plt.tight_layout()\n",
    "plt.show()"
   ]
  },
  {
   "cell_type": "markdown",
   "id": "01babe9f-495b-4fd7-98d0-aea9c15300ab",
   "metadata": {},
   "source": [
    "#### Observaciones:\n",
    "- Las franjas horarias con **mayor cantidad de delitos** son:\n",
    "    - 20:00 horas: 52,098 casos (pico máximo).\n",
    "    - 19:00 horas: 50,810 casos.\n",
    "    - 18:00 horas: 49,526 casos.\n",
    "- Las franjas horarias con **menor cantidad de delitos** son:\n",
    "    - 3:00 horas: 13,012 casos (pico mínimo).\n",
    "    - 4:00 horas: 13,101 casos.\n",
    "    - 2:00 horas: 14,099 casos.\n",
    "- A partir de las **5:00 horas**, los robos y hurtos comienzan a **aumentar de manera significativa**. Este crecimiento continúa hasta las **8:00 horas**.\n"
   ]
  },
  {
   "cell_type": "markdown",
   "id": "2b40ebe8-27ae-41cb-be05-79b0f5389755",
   "metadata": {},
   "source": [
    "### Distribución por días de la semana\n",
    "\n",
    "Verifico cuántos delitos relacionados con los robos y hurtos suceden por día de la semana"
   ]
  },
  {
   "cell_type": "code",
   "execution_count": 53,
   "id": "5702dbf8-ffc7-4765-b50b-a9921c756b6e",
   "metadata": {
    "scrolled": true
   },
   "outputs": [
    {
     "name": "stdout",
     "output_type": "stream",
     "text": [
      "dia\n",
      "VIERNES      127848\n",
      "MIERCOLES    124887\n",
      "JUEVES       123763\n",
      "MARTES       122787\n",
      "LUNES        122227\n",
      "SABADO       114346\n",
      "DOMINGO       97686\n",
      "Name: count, dtype: Int64\n"
     ]
    }
   ],
   "source": [
    "print(df_robos_hurtos['dia'].value_counts())"
   ]
  },
  {
   "cell_type": "code",
   "execution_count": 65,
   "id": "170b2205-6f61-499e-939f-d8e324482f8f",
   "metadata": {},
   "outputs": [
    {
     "data": {
      "image/png": "[encoded data removed]",
      "text/plain": [
       "<Figure size 1000x600 with 1 Axes>"
      ]
     },
     "metadata": {},
     "output_type": "display_data"
    }
   ],
   "source": [
    "# Gráfico de barras de frecuencia de robos y hurtos por días de la semana\n",
    "frecuencia_dias = df_robos_hurtos['dia'].value_counts().sort_index()\n",
    "plt.figure(figsize=(10, 6))\n",
    "sns.barplot(x=frecuencia_dias.index, \n",
    "            y=frecuencia_dias.values, \n",
    "            hue=frecuencia_dias.index,\n",
    "            palette=\"viridis\",\n",
    "            legend=False)\n",
    "plt.title(\"Distribución de Delitos por Día de la Semana\", fontsize=16)\n",
    "plt.xlabel(\"Día de la Semana\", fontsize=12)\n",
    "plt.ylabel(\"Cantidad de Delitos\", fontsize=12)\n",
    "plt.xticks(rotation=45)\n",
    "plt.tight_layout()\n",
    "plt.show()"
   ]
  }
 ],
 "metadata": {
  "kernelspec": {
   "display_name": "Python 3 (ipykernel)",
   "language": "python",
   "name": "python3"
  },
  "language_info": {
   "codemirror_mode": {
    "name": "ipython",
    "version": 3
   },
   "file_extension": ".py",
   "mimetype": "text/x-python",
   "name": "python",
   "nbconvert_exporter": "python",
   "pygments_lexer": "ipython3",
   "version": "3.12.3"
  }
 },
 "nbformat": 4,
 "nbformat_minor": 5
}
